{
 "cells": [
  {
   "cell_type": "markdown",
   "metadata": {},
   "source": [
    "<b>This project is made by python2.7"
   ]
  },
  {
   "cell_type": "code",
   "execution_count": 1,
   "metadata": {
    "collapsed": true
   },
   "outputs": [],
   "source": [
    "from pandas import Series, DataFrame\n",
    "import pandas as pd\n",
    "import preprocessing\n",
    "import processing"
   ]
  },
  {
   "cell_type": "markdown",
   "metadata": {},
   "source": [
    "<b> Read data"
   ]
  },
  {
   "cell_type": "code",
   "execution_count": 2,
   "metadata": {
    "collapsed": true,
    "scrolled": true
   },
   "outputs": [],
   "source": [
    "data = pd.read_csv(\"./data/train.csv\", sep=',')"
   ]
  },
  {
   "cell_type": "markdown",
   "metadata": {},
   "source": [
    "<b>Pre-processing the data into two parts: feature values, and target labels."
   ]
  },
  {
   "cell_type": "code",
   "execution_count": 3,
   "metadata": {
    "collapsed": true
   },
   "outputs": [],
   "source": [
    "X, Y = preprocessing.pre_processing(data)"
   ]
  },
  {
   "cell_type": "markdown",
   "metadata": {},
   "source": [
    "<b>We split the data, 80% is train-set, 20% is test_set"
   ]
  },
  {
   "cell_type": "code",
   "execution_count": 4,
   "metadata": {
    "collapsed": true
   },
   "outputs": [],
   "source": [
    "X_train, Y_train, X_test, Y_test = preprocessing.split_data(X.values, Y.values)"
   ]
  },
  {
   "cell_type": "markdown",
   "metadata": {
    "collapsed": true
   },
   "source": [
    "<b>Train the logistic model and compute the score"
   ]
  },
  {
   "cell_type": "code",
   "execution_count": 5,
   "metadata": {},
   "outputs": [
    {
     "name": "stdout",
     "output_type": "stream",
     "text": [
      "The score computed by myself is: 0.804469273743\n",
      "The score computed by sklearn is: 0.804469273743\n",
      "\n",
      "\n",
      "The recall computed by myselfis: 0.68115942029\n",
      "The recall computed by sklearn is: 0.68115942029\n",
      "\n",
      "\n",
      "The precision computed by myselfis: 0.783333333333\n",
      "The precision computed by sklearn is: 0.783333333333\n"
     ]
    }
   ],
   "source": [
    "res_myself, res_sklearn = processing.compute_model_logistic(X_train, Y_train, X_test, Y_test)\n",
    "print(\"The score computed by myself is: \" + str(res_myself[0]))\n",
    "print(\"The score computed by sklearn is: \" + str(res_sklearn[0]))\n",
    "print('\\n')\n",
    "print(\"The recall computed by myselfis: \" + str(res_myself[1]))\n",
    "print(\"The recall computed by sklearn is: \" + str(res_sklearn[1]))\n",
    "print('\\n')\n",
    "print(\"The precision computed by myselfis: \" + str(res_myself[2]))\n",
    "print(\"The precision computed by sklearn is: \" + str(res_sklearn[2]))"
   ]
  },
  {
   "cell_type": "markdown",
   "metadata": {},
   "source": [
    "<b>Fine-tune the paraments of random forest"
   ]
  },
  {
   "cell_type": "code",
   "execution_count": 6,
   "metadata": {
    "collapsed": true
   },
   "outputs": [],
   "source": [
    "best_n_estimators,best_max_depth = processing.fine_tune(X, Y)"
   ]
  },
  {
   "cell_type": "markdown",
   "metadata": {},
   "source": [
    "<b>Train the random forest model and compute the score"
   ]
  },
  {
   "cell_type": "code",
   "execution_count": 7,
   "metadata": {},
   "outputs": [
    {
     "name": "stdout",
     "output_type": "stream",
     "text": [
      "The score computed by myself is: 0.826815642458\n",
      "The score computed by sklearn is: 0.826815642458\n",
      "\n",
      "\n",
      "The recall computed by myselfis: 0.666666666667\n",
      "The recall computed by sklearn is: 0.666666666667\n",
      "\n",
      "\n",
      "The precision computed by myselfis: 0.851851851852\n",
      "The precision computed by sklearn is: 0.851851851852\n"
     ]
    }
   ],
   "source": [
    "res_myself, res_sklearn = processing.compute_model_randomforest(X_train, Y_train, X_test, Y_test, best_n_estimators, best_max_depth)\n",
    "print(\"The score computed by myself is: \" + str(res_myself[0]))\n",
    "print(\"The score computed by sklearn is: \" + str(res_sklearn[0]))\n",
    "print('\\n')\n",
    "print(\"The recall computed by myselfis: \" + str(res_myself[1]))\n",
    "print(\"The recall computed by sklearn is: \" + str(res_sklearn[1]))\n",
    "print('\\n')\n",
    "print(\"The precision computed by myselfis: \" + str(res_myself[2]))\n",
    "print(\"The precision computed by sklearn is: \" + str(res_sklearn[2]))"
   ]
  }
 ],
 "metadata": {
  "kernelspec": {
   "display_name": "Python 2",
   "language": "python",
   "name": "python2"
  },
  "language_info": {
   "codemirror_mode": {
    "name": "ipython",
    "version": 2
   },
   "file_extension": ".py",
   "mimetype": "text/x-python",
   "name": "python",
   "nbconvert_exporter": "python",
   "pygments_lexer": "ipython2",
   "version": "2.7.13"
  }
 },
 "nbformat": 4,
 "nbformat_minor": 2
}

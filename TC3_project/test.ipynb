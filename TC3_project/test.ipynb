{
 "cells": [
  {
   "cell_type": "code",
   "execution_count": 2,
   "metadata": {
    "collapsed": true
   },
   "outputs": [],
   "source": [
    "file = \"./corpus/TBBT/scenes/tbbt.season01.episode01.scenes.txt\""
   ]
  },
  {
   "cell_type": "code",
   "execution_count": 13,
   "metadata": {},
   "outputs": [
    {
     "name": "stdout",
     "output_type": "stream",
     "text": [
      "['scene1', '1.410', '148.010']\n",
      "['scene2', '151.730', '342.190']\n",
      "['scene3', '369.400', '872.670']\n",
      "['scene4', '878.650', '906.060']\n",
      "['scene5', '912.270', '986.170']\n",
      "['scene6', '988.950', '1009.860']\n",
      "['scene7', '1015.240', '1075.980']\n",
      "['scene8', '1076.620', '1103.610']\n",
      "['scene9', '1116.270', '1122.620']\n",
      "['scene10', '1126.080', '1161.560']\n",
      "['scene11', '1163.320', '1239.130']\n",
      "['scene12', '1246.110', '1287.540']\n"
     ]
    }
   ],
   "source": [
    "with open(file, 'r') as f:\n",
    "    while 1:\n",
    "        line = f.readline()\n",
    "        if not line:\n",
    "            break\n",
    "        else:\n",
    "            line = line[:-1].split(' ')\n",
    "            print line"
   ]
  },
  {
   "cell_type": "code",
   "execution_count": 6,
   "metadata": {},
   "outputs": [
    {
     "name": "stdout",
     "output_type": "stream",
     "text": [
      "Help on method_descriptor:\n",
      "\n",
      "split(...)\n",
      "    S.split([sep [,maxsplit]]) -> list of strings\n",
      "    \n",
      "    Return a list of the words in the string S, using sep as the\n",
      "    delimiter string.  If maxsplit is given, at most maxsplit\n",
      "    splits are done. If sep is not specified or is None, any\n",
      "    whitespace string is a separator and empty strings are removed\n",
      "    from the result.\n",
      "\n"
     ]
    }
   ],
   "source": [
    "help(str.split)"
   ]
  }
 ],
 "metadata": {
  "kernelspec": {
   "display_name": "Python 2",
   "language": "python",
   "name": "python2"
  },
  "language_info": {
   "codemirror_mode": {
    "name": "ipython",
    "version": 2
   },
   "file_extension": ".py",
   "mimetype": "text/x-python",
   "name": "python",
   "nbconvert_exporter": "python",
   "pygments_lexer": "ipython2",
   "version": "2.7.13"
  }
 },
 "nbformat": 4,
 "nbformat_minor": 2
}

{
 "cells": [
  {
   "cell_type": "markdown",
   "metadata": {},
   "source": [
    "<b> Coding by python2.7\n",
    "   \n",
    "authors: Qixiang PENG, Zizhao LI"
   ]
  },
  {
   "cell_type": "code",
   "execution_count": 1,
   "metadata": {},
   "outputs": [],
   "source": [
    "import pandas as pd\n",
    "import numpy as np\n",
    "from sklearn.model_selection import StratifiedShuffleSplit\n",
    "from sklearn.metrics import log_loss\n",
    "from sklearn.calibration import CalibratedClassifierCV\n",
    "from sklearn.ensemble import RandomForestClassifier\n",
    "from sklearn.decomposition import PCA\n",
    "from sklearn.model_selection import GridSearchCV  \n",
    "from matplotlib import pyplot as plt\n",
    "%matplotlib inline"
   ]
  },
  {
   "cell_type": "markdown",
   "metadata": {},
   "source": [
    "<b>load data"
   ]
  },
  {
   "cell_type": "code",
   "execution_count": 2,
   "metadata": {},
   "outputs": [],
   "source": [
    "train = pd.read_csv('./data/train.csv')\n",
    "# class between [1,9]\n",
    "train_y = train['target'].apply(lambda s: int(s[-1:])).values\n",
    "train_X = train.drop('id', axis=1)\n",
    "train_X = train_X.drop('target', axis=1)\n",
    "X_test = pd.read_csv('./data/test.csv')\n",
    "X_test = X_test.drop('id', axis=1)\n",
    "# split train set into 2 parts with same distribution: 80% train, 20% validation\n",
    "sss = StratifiedShuffleSplit(n_splits=1, test_size=0.2, random_state=0)\n",
    "for train_index, test_index in sss.split(train_X.values, train_y):\n",
    "    X_train = train_X.values[train_index]\n",
    "    X_val = train_X.values[test_index]\n",
    "\n",
    "    y_train = train_y[train_index]\n",
    "    y_val = train_y[test_index]"
   ]
  },
  {
   "cell_type": "markdown",
   "metadata": {},
   "source": [
    "<b>use random forest"
   ]
  },
  {
   "cell_type": "code",
   "execution_count": 3,
   "metadata": {},
   "outputs": [
    {
     "name": "stdout",
     "output_type": "stream",
     "text": [
      "The log loss is: 1.43080654403\n"
     ]
    }
   ],
   "source": [
    "# original rf\n",
    "rf = RandomForestClassifier()\n",
    "rf.fit(X_train, y_train)\n",
    "pred = rf.predict_proba(X_val)\n",
    "score = log_loss(y_val,pred)\n",
    "print \"The log loss is: \" + str(score)"
   ]
  },
  {
   "cell_type": "markdown",
   "metadata": {},
   "source": [
    "<b>we try to pick out some most important features, but not works."
   ]
  },
  {
   "cell_type": "code",
   "execution_count": 19,
   "metadata": {},
   "outputs": [],
   "source": [
    "importance = list(rf.feature_importances_)"
   ]
  },
  {
   "cell_type": "code",
   "execution_count": 25,
   "metadata": {},
   "outputs": [
    {
     "data": {
      "image/png": "[encoded data removed]",
      "text/plain": [
       "<matplotlib.figure.Figure at 0x10a989510>"
      ]
     },
     "metadata": {},
     "output_type": "display_data"
    }
   ],
   "source": [
    "index = range(1,94)\n",
    "plt.scatter(index, rf.feature_importances_)\n",
    "plt.show()"
   ]
  },
  {
   "cell_type": "markdown",
   "metadata": {},
   "source": [
    "<b> check if pca is useful, and results shows useless"
   ]
  },
  {
   "cell_type": "code",
   "execution_count": 12,
   "metadata": {},
   "outputs": [
    {
     "name": "stdout",
     "output_type": "stream",
     "text": [
      "10 The log loss is: 1.47824431582\n",
      "20 The log loss is: 1.46790040693\n",
      "30 The log loss is: 1.46288704657\n",
      "40 The log loss is: 1.39593422529\n",
      "50 The log loss is: 1.46671294175\n",
      "60 The log loss is: 1.46650075821\n"
     ]
    }
   ],
   "source": [
    "for i in [10,20,30,40,50,60]:\n",
    "    X_train_PCA = PCA(i).fit(X_train).transform(X_train)\n",
    "    X_val_PCA = PCA(i).fit(X_train).transform(X_val)\n",
    "    rf = RandomForestClassifier()\n",
    "    rf.fit(X_train, y_train)\n",
    "    pred = rf.predict_proba(X_val)\n",
    "    score = log_loss(y_val,pred)\n",
    "    print str(i) + \" The log loss is: \" + str(score)"
   ]
  },
  {
   "cell_type": "markdown",
   "metadata": {},
   "source": [
    "<b>fine-tune rf"
   ]
  },
  {
   "cell_type": "code",
   "execution_count": 19,
   "metadata": {},
   "outputs": [],
   "source": [
    "# firstly we search the best n_estimator，to save time，we don't use cv and just compute once score in validation\n",
    "score_list = []\n",
    "for i in [100,200,300,400,500,600,700,800,900]:\n",
    "    rf = RandomForestClassifier(n_estimators=i,n_jobs=2)\n",
    "    rf.fit(X_train, y_train)\n",
    "    pred = rf.predict_proba(X_val)\n",
    "    score = log_loss(y_val, pred)\n",
    "    score_list.append(score)"
   ]
  },
  {
   "cell_type": "code",
   "execution_count": 23,
   "metadata": {},
   "outputs": [],
   "source": [
    "for i in [1000,1200,1300,1400,1500]:\n",
    "    rf = RandomForestClassifier(n_estimators=i,n_jobs=2)\n",
    "    rf.fit(X_train, y_train)\n",
    "    pred = rf.predict_proba(X_val)\n",
    "    score = log_loss(y_val, pred)\n",
    "    score_list.append(score)"
   ]
  },
  {
   "cell_type": "code",
   "execution_count": 24,
   "metadata": {},
   "outputs": [
    {
     "data": {
      "image/png": "[encoded data removed]",
      "text/plain": [
       "<matplotlib.figure.Figure at 0x1224b6710>"
      ]
     },
     "metadata": {},
     "output_type": "display_data"
    }
   ],
   "source": [
    "plt.plot(score_list)\n",
    "plt.show()"
   ]
  },
  {
   "cell_type": "code",
   "execution_count": 4,
   "metadata": {},
   "outputs": [],
   "source": [
    "# so the best n_estmators is 900, and we search best max_depth\n",
    "score_list = []\n",
    "for i in range(10,160,10):\n",
    "    rf = RandomForestClassifier(n_estimators=900, max_depth=i, n_jobs=2)\n",
    "    rf.fit(X_train, y_train)\n",
    "    pred = rf.predict_proba(X_val)\n",
    "    score = log_loss(y_val, pred)\n",
    "    score_list.append(score)"
   ]
  },
  {
   "cell_type": "code",
   "execution_count": 5,
   "metadata": {
    "scrolled": true
   },
   "outputs": [
    {
     "data": {
      "image/png": "[encoded data removed]",
      "text/plain": [
       "<matplotlib.figure.Figure at 0x7f9ea9fd70d0>"
      ]
     },
     "metadata": {},
     "output_type": "display_data"
    }
   ],
   "source": [
    "plt.plot(range(10,160,10),score_list)\n",
    "plt.show()"
   ]
  },
  {
   "cell_type": "code",
   "execution_count": 7,
   "metadata": {},
   "outputs": [],
   "source": [
    "# so the best max_depth is 50, and we search best max_features\n",
    "score_list = []\n",
    "for i in [0.1,0.2,0.3,0.4,0.5,0.6]:\n",
    "    rf = RandomForestClassifier(n_estimators=900, max_depth=50, n_jobs=-1)\n",
    "    rf.fit(X_train, y_train)\n",
    "    pred = rf.predict_proba(X_val)\n",
    "    score = log_loss(y_val, pred)\n",
    "    score_list.append(score)"
   ]
  },
  {
   "cell_type": "code",
   "execution_count": 9,
   "metadata": {},
   "outputs": [],
   "source": [
    "for i in [0.7,0.8,0.9,1]:\n",
    "    rf = RandomForestClassifier(n_estimators=900, max_depth=50, n_jobs=-1)\n",
    "    rf.fit(X_train, y_train)\n",
    "    pred = rf.predict_proba(X_val)\n",
    "    score = log_loss(y_val, pred)\n",
    "    score_list.append(score)"
   ]
  },
  {
   "cell_type": "code",
   "execution_count": 8,
   "metadata": {},
   "outputs": [
    {
     "data": {
      "image/png": "[encoded data removed]",
      "text/plain": [
       "<matplotlib.figure.Figure at 0x7f9ed8266cd0>"
      ]
     },
     "metadata": {},
     "output_type": "display_data"
    }
   ],
   "source": [
    "plt.plot([0.1,0.2,0.3,0.4,0.5,0.6,0.7,0.8,0.9,1],score_list)\n",
    "plt.show()"
   ]
  },
  {
   "cell_type": "code",
   "execution_count": 41,
   "metadata": {},
   "outputs": [
    {
     "name": "stdout",
     "output_type": "stream",
     "text": [
      "The log loss is: 0.530867544064\n"
     ]
    }
   ],
   "source": [
    "# so the best max_features is 0.3. Due to time limit, we here only fine-tune these three hyper parameters.\n",
    "rf = RandomForestClassifier(n_estimators=900, max_depth=50, max_features=0.3, n_jobs=-1)\n",
    "rf.fit(X_train, y_train)\n",
    "pred = rf.predict_proba(X_val)\n",
    "score = log_loss(y_val, pred)\n",
    "print \"The log loss is: \" + str(score)"
   ]
  },
  {
   "cell_type": "markdown",
   "metadata": {},
   "source": [
    "<b>use calibrate"
   ]
  },
  {
   "cell_type": "code",
   "execution_count": 42,
   "metadata": {},
   "outputs": [
    {
     "name": "stdout",
     "output_type": "stream",
     "text": [
      "The log loss is: 0.488653037065\n"
     ]
    }
   ],
   "source": [
    "carf = CalibratedClassifierCV(rf, method=\"isotonic\", cv=5)\n",
    "carf.fit(X_train, y_train)\n",
    "pred = carf.predict_proba(X_val)\n",
    "score = log_loss(y_val, pred)\n",
    "print \"The log loss is: \" + str(score)"
   ]
  },
  {
   "cell_type": "markdown",
   "metadata": {},
   "source": [
    "<b> expot"
   ]
  },
  {
   "cell_type": "code",
   "execution_count": 43,
   "metadata": {},
   "outputs": [],
   "source": [
    "result = carf.predict_proba(X_test)\n",
    "columns = [\"id\",\"Class_1\",\"Class_2\",\"Class_3\",\"Class_4\",\"Class_5\",\"Class_6\",\"Class_7\",\"Class_8\",\"Class_9\"]\n",
    "rlt = np.zeros(result.shape[0] * 9).reshape((result.shape[0],9)).astype(float)\n",
    "\n",
    "i = 0\n",
    "for class_i in result:\n",
    "    rlt[i] = class_i\n",
    "    i += 1\n",
    "    \n",
    "r = []\n",
    "i = 1\n",
    "for class_i in rlt:\n",
    "    p = [i] + list(map(str, class_i.tolist()))\n",
    "    i += 1\n",
    "    r.append(p)\n",
    "r = np.array(r)\n",
    "\n",
    "out = pd.DataFrame(r,columns = columns)\n",
    "out.to_csv('result_RandomForest.csv',index = False)"
   ]
  }
 ],
 "metadata": {
  "kernelspec": {
   "display_name": "Python 2",
   "language": "python",
   "name": "python2"
  },
  "language_info": {
   "codemirror_mode": {
    "name": "ipython",
    "version": 2
   },
   "file_extension": ".py",
   "mimetype": "text/x-python",
   "name": "python",
   "nbconvert_exporter": "python",
   "pygments_lexer": "ipython2",
   "version": "2.7.13"
  }
 },
 "nbformat": 4,
 "nbformat_minor": 2
}

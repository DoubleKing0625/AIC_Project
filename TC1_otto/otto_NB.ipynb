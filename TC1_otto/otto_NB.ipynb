{
 "cells": [
  {
   "cell_type": "markdown",
   "metadata": {},
   "source": [
    "<b> Coding by python2.7\n",
    "   \n",
    "authors: Qixiang PENG, Zizhao LI"
   ]
  },
  {
   "cell_type": "code",
   "execution_count": 4,
   "metadata": {},
   "outputs": [],
   "source": [
    "import pandas as pd\n",
    "import numpy as np\n",
    "from sklearn.model_selection import StratifiedShuffleSplit\n",
    "from sklearn.metrics import log_loss\n",
    "from sklearn.calibration import CalibratedClassifierCV\n",
    "from sklearn.naive_bayes import MultinomialNB"
   ]
  },
  {
   "cell_type": "markdown",
   "metadata": {},
   "source": [
    "<b>load data"
   ]
  },
  {
   "cell_type": "code",
   "execution_count": 2,
   "metadata": {},
   "outputs": [],
   "source": [
    "train = pd.read_csv('./data/train.csv')\n",
    "# class between [1,9]\n",
    "train_y = train['target'].apply(lambda s: int(s[-1:])).values\n",
    "train_X = train.drop('id', axis=1)\n",
    "train_X = train_X.drop('target', axis=1)\n",
    "X_test = pd.read_csv('./data/test.csv')\n",
    "X_test = X_test.drop('id', axis=1)\n",
    "# split train set into 2 parts with same distribution: 80% train, 20% validation\n",
    "sss = StratifiedShuffleSplit(n_splits=1, test_size=0.2, random_state=0)\n",
    "for train_index, test_index in sss.split(train_X.values, train_y):\n",
    "    X_train = train_X.values[train_index]\n",
    "    X_val = train_X.values[test_index]\n",
    "\n",
    "    y_train = train_y[train_index]\n",
    "    y_val = train_y[test_index]"
   ]
  },
  {
   "cell_type": "markdown",
   "metadata": {},
   "source": [
    "<b>use original NB"
   ]
  },
  {
   "cell_type": "code",
   "execution_count": 7,
   "metadata": {},
   "outputs": [
    {
     "name": "stdout",
     "output_type": "stream",
     "text": [
      "3.54678781393\n"
     ]
    }
   ],
   "source": [
    "NB = MultinomialNB()\n",
    "NB.fit(X_train, y_train)\n",
    "pred= NB.predict_proba(X_val)\n",
    "score = log_loss(y_val, pred)\n",
    "print score"
   ]
  },
  {
   "cell_type": "markdown",
   "metadata": {},
   "source": [
    "<b> use MultinomialNB with Calibrated prob"
   ]
  },
  {
   "cell_type": "code",
   "execution_count": 8,
   "metadata": {},
   "outputs": [
    {
     "name": "stdout",
     "output_type": "stream",
     "text": [
      "0.808216645041\n"
     ]
    }
   ],
   "source": [
    "NB = MultinomialNB()\n",
    "NB_isotonic = CalibratedClassifierCV(NB, cv=5, method='isotonic')\n",
    "NB_isotonic.fit(X_train, y_train)\n",
    "prob_pos_isotonic = NB_isotonic.predict_proba(X_val)\n",
    "NB_score_isotonic = log_loss(y_val, prob_pos_isotonic)\n",
    "print NB_score_isotonic"
   ]
  },
  {
   "cell_type": "markdown",
   "metadata": {},
   "source": [
    "<b> export "
   ]
  },
  {
   "cell_type": "code",
   "execution_count": 9,
   "metadata": {},
   "outputs": [],
   "source": [
    "result = NB_isotonic.predict_proba(X_test)\n",
    "columns = [\"id\",\"Class_1\",\"Class_2\",\"Class_3\",\"Class_4\",\"Class_5\",\"Class_6\",\"Class_7\",\"Class_8\",\"Class_9\"]\n",
    "rlt = np.zeros(result.shape[0] * 9).reshape((result.shape[0],9)).astype(float)\n",
    "\n",
    "i = 0\n",
    "for class_i in result:\n",
    "    rlt[i] = class_i\n",
    "    i += 1\n",
    "    \n",
    "r = []\n",
    "i = 1\n",
    "for class_i in rlt:\n",
    "    p = [i] + list(map(str, class_i.tolist()))\n",
    "    i += 1\n",
    "    r.append(p)\n",
    "r = np.array(r)\n",
    "\n",
    "out = pd.DataFrame(r,columns = columns)\n",
    "out.to_csv('result_NB.csv',index = False)"
   ]
  }
 ],
 "metadata": {
  "kernelspec": {
   "display_name": "Python 2",
   "language": "python",
   "name": "python2"
  },
  "language_info": {
   "codemirror_mode": {
    "name": "ipython",
    "version": 2
   },
   "file_extension": ".py",
   "mimetype": "text/x-python",
   "name": "python",
   "nbconvert_exporter": "python",
   "pygments_lexer": "ipython2",
   "version": "2.7.13"
  }
 },
 "nbformat": 4,
 "nbformat_minor": 2
}

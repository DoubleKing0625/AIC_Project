{
 "cells": [
  {
   "cell_type": "markdown",
   "metadata": {},
   "source": [
    "<b> This file, using python3.6, realized one order HMM with forward-backward and viterbi algorithms"
   ]
  },
  {
   "cell_type": "code",
   "execution_count": 4,
   "metadata": {
    "collapsed": true
   },
   "outputs": [],
   "source": [
    "from pandas import Series, DataFrame\n",
    "import pandas as pd\n",
    "import pickle\n",
    "import numpy as np"
   ]
  },
  {
   "cell_type": "markdown",
   "metadata": {},
   "source": [
    "<b>Load data "
   ]
  },
  {
   "cell_type": "code",
   "execution_count": 5,
   "metadata": {
    "collapsed": true
   },
   "outputs": [],
   "source": [
    "#address of dossier\n",
    "adr_test10 = './data/test10.pkl'\n",
    "adr_train10 = './data/train10.pkl'\n",
    "adr_test20 = './data/test20.pkl'\n",
    "adr_train20 = './data/train20.pkl'\n",
    "\n",
    "\n",
    "#read in the data\n",
    "test10 = pickle.load(open(adr_test10, \"rb\"))\n",
    "train10 = pickle.load(open(adr_train10, \"rb\"))\n",
    "test20 = pickle.load(open(adr_test20, \"rb\"))\n",
    "train20 = pickle.load(open(adr_train20, \"rb\"))\n",
    "voc_tag = ['a','b','c','d','e','f','g','h','i','j','k','l','m','n','o','p','q','r','s','t','u','v','w','x','y','z']"
   ]
  },
  {
   "cell_type": "markdown",
   "metadata": {},
   "source": [
    "<b>Compute HMM parameter: A, B, Pi"
   ]
  },
  {
   "cell_type": "code",
   "execution_count": 6,
   "metadata": {
    "collapsed": true
   },
   "outputs": [],
   "source": [
    "def calcule_Parametres(mydata):\n",
    "   #list de tag\n",
    "    state_list = []\n",
    "    for i in range(len(mydata)):\n",
    "        for j in range(len(mydata[i])):\n",
    "            state_list.append(mydata[i][j][1])\n",
    "    state_list = list(set(state_list))\n",
    "    #vocabulaire\n",
    "    vocabulaire = []\n",
    "    for i in range(len(mydata)): \n",
    "        for j in range(len(mydata[i])):\n",
    "            vocabulaire.append(mydata[i][j][0])\n",
    "    \n",
    "    vocabulaire = list(set(vocabulaire))\n",
    "    \n",
    "    #calculate parameters N1,N2,N3,C0,C1,C2,NW2,NW3\n",
    "    N1C1 = Series(np.zeros(len(state_list)),index=state_list)\n",
    "    N2C2 = DataFrame(np.zeros([len(state_list),len(state_list)]),columns=state_list, index=state_list)\n",
    "    N3 = DataFrame(columns=state_list, index=range(1))\n",
    "    for index in state_list:\n",
    "        N3[index][0] = DataFrame(np.zeros([len(state_list),len(state_list)]),columns=state_list, index=state_list)\n",
    "    C0 = 0\n",
    "    NW = Series(np.zeros(len(vocabulaire)),index=state_list)\n",
    "    \n",
    "    \n",
    "    \n",
    "    NW3 = DataFrame(columns=vocabulaire, index=range(1))\n",
    "    for voc in vocabulaire:\n",
    "        NW3[voc][0] = DataFrame(np.zeros([len(state_list),len(state_list)]),columns=state_list, index=state_list)\n",
    "    \n",
    "    #calcule the distribution for pi\n",
    "    distribution_de_tag_initial = {}\n",
    "    for index in state_list:\n",
    "        distribution_de_tag_initial[index] = 0\n",
    "    for i in range(len(mydata)):\n",
    "        distribution_de_tag_initial[mydata[i][0][1]] += 1\n",
    "    for index in state_list:\n",
    "        distribution_de_tag_initial[index] /= float(len(mydata))\n",
    "    pi = Series(distribution_de_tag_initial)\n",
    "     \n",
    "    #calcule the matrix B_1\n",
    "    B_1 = DataFrame(np.zeros([len(vocabulaire),len(state_list)]),columns=state_list, index=vocabulaire)\n",
    "    for i in range(len(mydata)):\n",
    "        for j in range(len(mydata[i])):\n",
    "            B_1[mydata[i][j][1]][mydata[i][j][0]] += 1\n",
    "    NW2 = B_1.copy(deep=True)\n",
    "    for index in state_list:\n",
    "        B_1[index] /= float(sum(B_1[index]))\n",
    "    \n",
    "    for i in range(len(mydata)):\n",
    "        for j in range(len(mydata[i])):\n",
    "            N1C1[mydata[i][j][1]] += 1\n",
    "            NW[mydata[i][j][0]] += 1\n",
    "            C0 += 1\n",
    "            if len(mydata[i])-j == 1: continue\n",
    "            \n",
    "            N2C2[mydata[i][j][1]][mydata[i][j+1][1]] += 1\n",
    "            NW3[mydata[i][j+1][0]][0][mydata[i][j][1]][mydata[i][j+1][1]] += 1    \n",
    "                \n",
    "            if len(mydata[i])-j-1 == 1: continue\n",
    "            N3[mydata[i][j][1]][0][mydata[i][j+1][1]][mydata[i][j+2][1]] += 1\n",
    "    \n",
    "    #calculate a_ij\n",
    "    A_1 = DataFrame(np.zeros([len(state_list),len(state_list)]),columns=state_list, index=state_list)\n",
    "    for index_1 in state_list:\n",
    "        for index_2 in state_list:\n",
    "            k2 = (np.log(N2C2[index_1][index_2]+1)+1)/(np.log(N2C2[index_1][index_2]+1)+2)\n",
    "            if N1C1[index_1]==0: temp1=0\n",
    "            else: temp1 = k2*N2C2[index_1][index_2]/N1C1[index_1]\n",
    "            temp2 = (1-k2)*N1C1[index_2]/C0\n",
    "            A_1[index_1][index_2] = temp1 + temp2\n",
    "    \n",
    "    \n",
    "    \n",
    "    #calculate a_ijk\n",
    "    A_ = DataFrame(columns=state_list,index=range(1))\n",
    "    for index in state_list:\n",
    "        A_[index][0] = DataFrame(np.zeros([len(state_list),len(state_list)]), columns=state_list, index=state_list)\n",
    "    for index_1 in state_list:\n",
    "        for index_2 in state_list:\n",
    "            for index_3 in state_list:\n",
    "                k2 = (np.log(N2C2[index_2][index_3]+1)+1)/(np.log(N2C2[index_2][index_3]+1)+2)\n",
    "                k3 = (np.log(N3[index_1][0][index_2][index_3]+1)+1)/(np.log(N3[index_1][0][index_2][index_3]+1)+2)\n",
    "                if N2C2[index_1][index_2] == 0: temp1=0\n",
    "                else:  temp1 = k3*N3[index_1][0][index_2][index_3]/N2C2[index_1][index_2]\n",
    "                if N1C1[index_2]==0: temp2=0\n",
    "                else: temp2 = (1-k3)*k2*N2C2[index_2][index_3]/N1C1[index_2]\n",
    "                temp3 = (1-k2)*(1-k3)*N1C1[index_3]/C0\n",
    "                A_[index_3][0][index_1][index_2] = temp1 + temp2 + temp3\n",
    "    \n",
    "    #calculate bk_ij\n",
    "    \n",
    "    B_ = DataFrame(columns=vocabulaire, index=range(1))\n",
    "    for voc in vocabulaire:\n",
    "        B_[voc][0] = DataFrame(np.zeros([len(state_list),len(state_list)]), columns=state_list, index=state_list)\n",
    "    for index_1 in state_list:\n",
    "        for index_2 in state_list:\n",
    "            for voc in vocabulaire:\n",
    "                k3 = (np.log(NW3[voc][0][index_1][index_2]+1)+1)/(np.log(NW3[voc][0][index_1][index_2]+1)+2)\n",
    "                if N2C2[index_1][index_2] == 0: temp1=0\n",
    "                else: temp1 = k3*NW3[voc][0][index_1][index_2]/N2C2[index_1][index_2]\n",
    "                if N1C1[index_2] == 0: temp2 = 0\n",
    "                else: temp2 = (1-k3)*NW2[index_2][voc]/N1C1[index_2]\n",
    "                B_[voc][0][index_1][index_2] = temp1 + temp2    \n",
    "    \n",
    "    return pi,A_1,B_1,A_,B_"
   ]
  },
  {
   "cell_type": "markdown",
   "metadata": {},
   "source": [
    "<b> The implementation of viterbi algrithm"
   ]
  },
  {
   "cell_type": "code",
   "execution_count": 7,
   "metadata": {
    "collapsed": true
   },
   "outputs": [],
   "source": [
    "def get_idx(mu):\n",
    "    value = mu.max().max()\n",
    "    for index_1 in voc_tag:\n",
    "        for index_2 in voc_tag:\n",
    "            if mu[index_1][index_2] == value: return (index_1,index_2)\n",
    "\n",
    "def get_idx_value(mu):\n",
    "    value = mu.max().max()\n",
    "    for index_1 in voc_tag:\n",
    "        for index_2 in voc_tag:\n",
    "            if mu[index_1][index_2] == value: return index_1,value\n",
    "\n",
    "def calculate(mu,A):\n",
    "    temp = DataFrame(columns=voc_tag, index=range(1))\n",
    "    result_mu = DataFrame(np.zeros([len(voc_tag),len(voc_tag)]),columns=voc_tag, index=voc_tag)\n",
    "    result_phy = DataFrame(columns=voc_tag, index=voc_tag)\n",
    "    for index in voc_tag:\n",
    "        temp[index][0] = mu*A[index][0]\n",
    "    for index_1 in voc_tag:\n",
    "        for index_2 in voc_tag:\n",
    "            max_v = -9999\n",
    "            for index_3 in voc_tag:\n",
    "                temp_value = temp[index_1][0][index_3][index_2]\n",
    "                if temp_value > max_v:\n",
    "                    max_v = temp_value\n",
    "                    idx = index_3\n",
    "            result_mu[index_2][index_1] = max_v\n",
    "            result_phy[index_2][index_1] = idx\n",
    "    return result_mu, result_phy\n",
    "\n",
    "\n",
    "def Viterbi(pi,A,B,A_1,B_1,word):\n",
    "    result = []\n",
    "    if len(word) == 1:\n",
    "        mu = DataFrame(np.zeros([len(voc_tag),len(word)]),columns=range(len(word)), index=voc_tag)\n",
    "        idx = DataFrame(np.zeros([len(voc_tag),len(word)-1]),columns=range(len(word)-1), index=voc_tag)\n",
    "        #initialization of first column\n",
    "        mu.loc[:,0] = pi*B_1.iloc[list(B_1.index).index(word[0][0])]    \n",
    "        return mu.idxmax(axis=0)\n",
    "    mu = DataFrame(np.zeros([len(voc_tag),len(voc_tag)]),columns=voc_tag, index=voc_tag)\n",
    "    \n",
    "    mu = (A_1*B[word[1][0]][0]).apply(lambda x:x*(np.array(pi)*np.array(B_1.loc[word[0][0],:])),axis=1)\n",
    "    if len(word) == 2:\n",
    "        return get_idx(mu)\n",
    "    phy = DataFrame(columns=range(len(word)-2), index=range(1))\n",
    "    if len(word) > 2:\n",
    "        for i in range(len(word)-2):\n",
    "            \n",
    "            result_mu, result_phy = calculate(mu,A)\n",
    "            mu = result_mu*B[word[i+2][0]][0]\n",
    "            phy[i][0] = result_phy\n",
    "        index_last,index_llast=get_idx(mu)\n",
    "        result.append(index_last)\n",
    "        result.append(index_llast)\n",
    "        for i in range(len(word)-2):\n",
    "            result.insert(0,phy[len(word)-3-i][0][result[0]][result[1]])\n",
    "    return result "
   ]
  },
  {
   "cell_type": "markdown",
   "metadata": {},
   "source": [
    "<b> Test function"
   ]
  },
  {
   "cell_type": "code",
   "execution_count": 8,
   "metadata": {
    "collapsed": true
   },
   "outputs": [],
   "source": [
    "# Test function for certain trainset and testset.\n",
    "# return baseline, result.\n",
    "# for each result, as a list [error_rate, num_error_corrected, num_error_created, true_positive, false_negative]\n",
    "def test_part(train,test):\n",
    "    #caculate parameters of HMM according to train data\n",
    "    pi,A_1,B_1,A_,B_ = calcule_Parametres(train)\n",
    "    right_positive = 0.0\n",
    "    positive = 0.0\n",
    "    wrong_negative = 0.0\n",
    "    negative = 0.0\n",
    "    #test the performance for test set\n",
    "    for word in test:\n",
    "        corrected_word = Viterbi(pi,A_,B_,A_1,B_1,word)\n",
    "        for i in range(len(word)):\n",
    "            if word[i][0] == word[i][1]:\n",
    "                positive += 1\n",
    "                if corrected_word[i] == word[i][1]:\n",
    "                    right_positive += 1\n",
    "            else:\n",
    "                negative += 1\n",
    "                if not corrected_word[i] == word[i][1]:\n",
    "                    wrong_negative += 1\n",
    "    \n",
    "    total = positive + negative\n",
    "    baseline = negative / total\n",
    "    \n",
    "    res = []\n",
    "    error_rate = (positive - right_positive + wrong_negative) / total\n",
    "    res.append(error_rate)\n",
    "    \n",
    "    num_error_corrected = negative - wrong_negative\n",
    "    res.append(num_error_corrected)\n",
    "    \n",
    "    num_error_created = positive - right_positive\n",
    "    res.append(num_error_created)\n",
    "    \n",
    "    right_positive /= positive\n",
    "    res.append(right_positive)\n",
    "    \n",
    "    wrong_negative /= negative\n",
    "    res.append(wrong_negative)\n",
    "\n",
    "    return baseline, res"
   ]
  },
  {
   "cell_type": "markdown",
   "metadata": {},
   "source": [
    "<b>The results</b>\n",
    "\n",
    "We use DataFrame here, so it costs much time.\n",
    "\n",
    "For test10, maybe 1 hours, For test20, maybe 3 hours"
   ]
  },
  {
   "cell_type": "code",
   "execution_count": null,
   "metadata": {},
   "outputs": [],
   "source": [
    "baseline, viterbi = test_part(train10, test10)\n",
    "print(\"Here are the result of data-set with 10% error:\")\n",
    "print(\"------------------------------------------------------\")\n",
    "print(\"The baseline is: \" + str(baseline))\n",
    "print(\"------------------------------------------------------\")\n",
    "print(\"The error-rate using viterbi is: \" + str(viterbi[0]))\n",
    "print(\"The number of corrected error using viterbi is: \" + str(viterbi[1]))\n",
    "print(\"The number of created error using viterbi is: \" + str(viterbi[2]))\n",
    "print(\"The true positive rate using viterbi is: \" + str(viterbi[3]))\n",
    "print(\"The false negative rate using viterbi is: \" + str(viterbi[4]))"
   ]
  },
  {
   "cell_type": "code",
   "execution_count": 24,
   "metadata": {},
   "outputs": [
    {
     "name": "stdout",
     "output_type": "stream",
     "text": [
      "Here are the result of data-set with 20% error:\n",
      "------------------------------------------------------\n",
      "The baseline is: 0.19405667725121323\n",
      "------------------------------------------------------\n",
      "The error-rate using viterbi is: 0.13132826073932058\n",
      "The number of corrected error using viterbi is: 1755.0\n",
      "The number of created error using viterbi is: 708.0\n",
      "The true positive rate using viterbi is: 0.9473684210526315\n",
      "The false negative rate using viterbi is: 0.45816610064834823\n"
     ]
    }
   ],
   "source": [
    "baseline, viterbi = test_part(train20, test20)\n",
    "print(\"Here are the result of data-set with 20% error:\")\n",
    "print(\"------------------------------------------------------\")\n",
    "print(\"The baseline is: \" + str(baseline))\n",
    "print(\"------------------------------------------------------\")\n",
    "print(\"The error-rate using viterbi is: \" + str(viterbi[0]))\n",
    "print(\"The number of corrected error using viterbi is: \" + str(viterbi[1]))\n",
    "print(\"The number of created error using viterbi is: \" + str(viterbi[2]))\n",
    "print(\"The true positive rate using viterbi is: \" + str(viterbi[3]))\n",
    "print(\"The false negative rate using viterbi is: \" + str(viterbi[4]))"
   ]
  }
 ],
 "metadata": {
  "kernelspec": {
   "display_name": "Python 3",
   "language": "python",
   "name": "python3"
  },
  "language_info": {
   "codemirror_mode": {
    "name": "ipython",
    "version": 3
   },
   "file_extension": ".py",
   "mimetype": "text/x-python",
   "name": "python",
   "nbconvert_exporter": "python",
   "pygments_lexer": "ipython3",
   "version": "3.6.4"
  }
 },
 "nbformat": 4,
 "nbformat_minor": 2
}

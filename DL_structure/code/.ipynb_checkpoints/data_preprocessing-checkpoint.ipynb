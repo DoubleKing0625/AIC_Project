{
 "cells": [
  {
   "cell_type": "code",
   "execution_count": 55,
   "metadata": {},
   "outputs": [],
   "source": [
    "import numpy as np\n",
    "import theano\n",
    "import theano.tensor as T\n",
    "import lasagne\n",
    "\n",
    "import sys\n",
    "import time\n",
    "import utils\n",
    "import config\n",
    "import logging\n",
    "import main\n",
    "import nn_layers"
   ]
  },
  {
   "cell_type": "code",
   "execution_count": 3,
   "metadata": {
    "collapsed": true
   },
   "outputs": [],
   "source": [
    "train_file = \"../data/cnn/train.txt\"\n",
    "dev_file =  \"../data/cnn/dev.txt\" \n",
    "embedding_file = \"../data/glove/glove.6B.100d.txt\""
   ]
  },
  {
   "cell_type": "code",
   "execution_count": 71,
   "metadata": {},
   "outputs": [],
   "source": [
    "# relabling makes all entity in each passage starts from 0\n",
    "logging.info('*' * 10 + ' Train')\n",
    "train_examples = utils.load_data(train_file, relabeling=True)\n",
    "logging.info('*' * 10 + ' Dev')\n",
    "dev_examples = utils.load_data(dev_file, relabeling=True)"
   ]
  },
  {
   "cell_type": "markdown",
   "metadata": {},
   "source": [
    "<b>train_examples is a 3-tuple: passage, question, answer"
   ]
  },
  {
   "cell_type": "code",
   "execution_count": 72,
   "metadata": {},
   "outputs": [
    {
     "data": {
      "text/plain": [
       "'days after two @entity0 journalists were killed in northern @entity1 , authorities rounded up dozens of suspects and a group linked to @entity2 claimed responsibility for the deaths . at least 30 suspects were seized in desert camps near the town of @entity3 and taken to the local @entity0 army base for questioning , three officials in @entity1 said . the officials did not want to be named because they are not authorized to talk to the media . @entity4 ( @entity4 ) has allegedly claimed responsibility for the killings , according to @entity5 news agency in @entity6 . @entity4 operates in northern @entity7 and the group \\'s statements have shown up before on the @entity8 outlet . @entity9 journalists @entity10 and @entity11 were abducted in front of the home of a member of the @entity12 rebels \\' @entity13 of a @entity14 on saturday , @entity9 reported . they were found dead the same day . their bodies arrived in @entity15 on tuesday . @entity3 was one of the strongholds of the @entity16 militant @entity12 uprising last year that plunged @entity1 into chaos after a military - led coup . following the coup , @entity12 rebels occupied the northern half of the country . a response to \" crimes \" against @entity16 in @entity17 @entity4 said the killings were in response to the \" crimes \" perpetrated by @entity0 as well as @entity7 and international troops against @entity16 in @entity17 . @entity17 is an area in northern @entity1 that separatist @entity12 rebels describe as the cradle of their nomadic civilization . @entity4 said that this is just the beginning and that @entity0 president @entity18 will pay more in response to this \" new crusade \" against @entity16 , according to the purported claim . veteran @entity19 war correspondent kidnapped in @entity20 as part of @entity0 \\'s intervention this year to flush out militants in @entity1 , the @entity0 military secured the area around @entity3 . @entity18 called an emergency meeting with ministers sunday after the killings .'"
      ]
     },
     "execution_count": 72,
     "metadata": {},
     "output_type": "execute_result"
    }
   ],
   "source": [
    "# the first passage\n",
    "train_examples[0][0]"
   ]
  },
  {
   "cell_type": "code",
   "execution_count": 15,
   "metadata": {},
   "outputs": [
    {
     "data": {
      "text/plain": [
       "'officials : the suspects were taken to the local @placeholder army base for questioning'"
      ]
     },
     "execution_count": 15,
     "metadata": {},
     "output_type": "execute_result"
    }
   ],
   "source": [
    "# the first question\n",
    "train_examples[1][0]"
   ]
  },
  {
   "cell_type": "code",
   "execution_count": 16,
   "metadata": {},
   "outputs": [
    {
     "data": {
      "text/plain": [
       "'@entity0'"
      ]
     },
     "execution_count": 16,
     "metadata": {},
     "output_type": "execute_result"
    }
   ],
   "source": [
    "# the first answer\n",
    "train_examples[2][0]"
   ]
  },
  {
   "cell_type": "markdown",
   "metadata": {},
   "source": [
    "<b>build the dictionary for train-set words, we take the most 50000 often words as default.\n",
    "\n",
    "Only the max_words ones are kept and the remaining will be mapped to <UNK>."
   ]
  },
  {
   "cell_type": "code",
   "execution_count": 73,
   "metadata": {},
   "outputs": [],
   "source": [
    "word_dict = utils.build_dict(train_examples[0] + train_examples[1])"
   ]
  },
  {
   "cell_type": "code",
   "execution_count": 76,
   "metadata": {},
   "outputs": [
    {
     "name": "stdout",
     "output_type": "stream",
     "text": [
      "50000\n"
     ]
    }
   ],
   "source": [
    "# word: index(the rank of common)\n",
    "# leave 0 to UNK\n",
    "# leave 1 to delimiter |||\n",
    "word_dict['@entity2']\n",
    "print len(word_dict)"
   ]
  },
  {
   "cell_type": "markdown",
   "metadata": {},
   "source": [
    "<b>build the dictionary for train-set entity"
   ]
  },
  {
   "cell_type": "code",
   "execution_count": 74,
   "metadata": {
    "collapsed": true
   },
   "outputs": [],
   "source": [
    "entity_markers = list(set([w for w in word_dict.keys() if w.startswith('@entity')] + train_examples[2]))\n",
    "entity_markers = ['<unk_entity>'] + entity_markers\n",
    "entity_dict = {w: index for (index, w) in enumerate(entity_markers)}"
   ]
  },
  {
   "cell_type": "code",
   "execution_count": 75,
   "metadata": {},
   "outputs": [
    {
     "data": {
      "text/plain": [
       "{'<unk_entity>': 0,\n",
       " '@entity0': 147,\n",
       " '@entity1': 291,\n",
       " '@entity10': 203,\n",
       " '@entity100': 208,\n",
       " '@entity101': 209,\n",
       " '@entity102': 210,\n",
       " '@entity103': 211,\n",
       " '@entity104': 212,\n",
       " '@entity105': 213,\n",
       " '@entity106': 3,\n",
       " '@entity107': 102,\n",
       " '@entity108': 9,\n",
       " '@entity109': 326,\n",
       " '@entity11': 202,\n",
       " '@entity110': 246,\n",
       " '@entity111': 253,\n",
       " '@entity112': 252,\n",
       " '@entity113': 251,\n",
       " '@entity114': 240,\n",
       " '@entity115': 249,\n",
       " '@entity116': 248,\n",
       " '@entity117': 247,\n",
       " '@entity118': 259,\n",
       " '@entity119': 258,\n",
       " '@entity12': 201,\n",
       " '@entity120': 141,\n",
       " '@entity121': 142,\n",
       " '@entity122': 139,\n",
       " '@entity123': 140,\n",
       " '@entity124': 137,\n",
       " '@entity125': 138,\n",
       " '@entity126': 135,\n",
       " '@entity127': 136,\n",
       " '@entity128': 133,\n",
       " '@entity129': 134,\n",
       " '@entity13': 200,\n",
       " '@entity130': 178,\n",
       " '@entity131': 177,\n",
       " '@entity132': 180,\n",
       " '@entity133': 179,\n",
       " '@entity134': 174,\n",
       " '@entity135': 173,\n",
       " '@entity136': 176,\n",
       " '@entity137': 175,\n",
       " '@entity138': 170,\n",
       " '@entity139': 169,\n",
       " '@entity14': 199,\n",
       " '@entity140': 62,\n",
       " '@entity141': 63,\n",
       " '@entity142': 64,\n",
       " '@entity143': 65,\n",
       " '@entity144': 58,\n",
       " '@entity145': 59,\n",
       " '@entity146': 60,\n",
       " '@entity147': 61,\n",
       " '@entity148': 68,\n",
       " '@entity149': 69,\n",
       " '@entity15': 198,\n",
       " '@entity150': 96,\n",
       " '@entity151': 95,\n",
       " '@entity152': 204,\n",
       " '@entity153': 114,\n",
       " '@entity154': 100,\n",
       " '@entity155': 99,\n",
       " '@entity156': 98,\n",
       " '@entity157': 97,\n",
       " '@entity158': 88,\n",
       " '@entity159': 73,\n",
       " '@entity16': 197,\n",
       " '@entity160': 306,\n",
       " '@entity161': 307,\n",
       " '@entity162': 171,\n",
       " '@entity163': 305,\n",
       " '@entity164': 310,\n",
       " '@entity165': 311,\n",
       " '@entity166': 308,\n",
       " '@entity167': 168,\n",
       " '@entity168': 312,\n",
       " '@entity169': 313,\n",
       " '@entity17': 196,\n",
       " '@entity170': 22,\n",
       " '@entity171': 21,\n",
       " '@entity172': 24,\n",
       " '@entity173': 23,\n",
       " '@entity174': 26,\n",
       " '@entity175': 25,\n",
       " '@entity176': 28,\n",
       " '@entity177': 27,\n",
       " '@entity178': 30,\n",
       " '@entity179': 29,\n",
       " '@entity18': 207,\n",
       " '@entity180': 71,\n",
       " '@entity181': 74,\n",
       " '@entity182': 234,\n",
       " '@entity183': 235,\n",
       " '@entity184': 236,\n",
       " '@entity185': 84,\n",
       " '@entity186': 238,\n",
       " '@entity187': 239,\n",
       " '@entity188': 42,\n",
       " '@entity189': 276,\n",
       " '@entity19': 206,\n",
       " '@entity190': 275,\n",
       " '@entity191': 274,\n",
       " '@entity192': 273,\n",
       " '@entity193': 272,\n",
       " '@entity194': 271,\n",
       " '@entity195': 270,\n",
       " '@entity196': 269,\n",
       " '@entity197': 268,\n",
       " '@entity198': 267,\n",
       " '@entity199': 266,\n",
       " '@entity2': 289,\n",
       " '@entity20': 160,\n",
       " '@entity200': 299,\n",
       " '@entity201': 298,\n",
       " '@entity202': 297,\n",
       " '@entity203': 296,\n",
       " '@entity204': 303,\n",
       " '@entity205': 302,\n",
       " '@entity206': 301,\n",
       " '@entity207': 300,\n",
       " '@entity208': 294,\n",
       " '@entity209': 293,\n",
       " '@entity21': 161,\n",
       " '@entity210': 264,\n",
       " '@entity211': 265,\n",
       " '@entity212': 309,\n",
       " '@entity213': 45,\n",
       " '@entity214': 260,\n",
       " '@entity215': 261,\n",
       " '@entity216': 262,\n",
       " '@entity217': 263,\n",
       " '@entity218': 5,\n",
       " '@entity219': 8,\n",
       " '@entity22': 158,\n",
       " '@entity220': 225,\n",
       " '@entity221': 224,\n",
       " '@entity222': 227,\n",
       " '@entity223': 226,\n",
       " '@entity224': 49,\n",
       " '@entity225': 228,\n",
       " '@entity226': 231,\n",
       " '@entity227': 230,\n",
       " '@entity228': 233,\n",
       " '@entity229': 232,\n",
       " '@entity23': 159,\n",
       " '@entity230': 183,\n",
       " '@entity231': 184,\n",
       " '@entity232': 181,\n",
       " '@entity233': 182,\n",
       " '@entity234': 187,\n",
       " '@entity235': 188,\n",
       " '@entity236': 185,\n",
       " '@entity237': 186,\n",
       " '@entity238': 190,\n",
       " '@entity239': 191,\n",
       " '@entity24': 164,\n",
       " '@entity240': 7,\n",
       " '@entity241': 1,\n",
       " '@entity242': 132,\n",
       " '@entity243': 131,\n",
       " '@entity244': 278,\n",
       " '@entity245': 129,\n",
       " '@entity246': 128,\n",
       " '@entity247': 127,\n",
       " '@entity248': 195,\n",
       " '@entity249': 192,\n",
       " '@entity25': 165,\n",
       " '@entity250': 85,\n",
       " '@entity251': 86,\n",
       " '@entity252': 87,\n",
       " '@entity253': 10,\n",
       " '@entity254': 89,\n",
       " '@entity255': 46,\n",
       " '@entity256': 91,\n",
       " '@entity257': 92,\n",
       " '@entity258': 93,\n",
       " '@entity259': 94,\n",
       " '@entity26': 162,\n",
       " '@entity260': 55,\n",
       " '@entity261': 54,\n",
       " '@entity262': 57,\n",
       " '@entity263': 56,\n",
       " '@entity264': 193,\n",
       " '@entity265': 50,\n",
       " '@entity266': 53,\n",
       " '@entity267': 52,\n",
       " '@entity268': 48,\n",
       " '@entity269': 47,\n",
       " '@entity27': 163,\n",
       " '@entity270': 19,\n",
       " '@entity271': 20,\n",
       " '@entity272': 17,\n",
       " '@entity273': 18,\n",
       " '@entity274': 15,\n",
       " '@entity275': 16,\n",
       " '@entity276': 13,\n",
       " '@entity277': 14,\n",
       " '@entity278': 11,\n",
       " '@entity279': 12,\n",
       " '@entity28': 166,\n",
       " '@entity280': 318,\n",
       " '@entity281': 317,\n",
       " '@entity282': 316,\n",
       " '@entity283': 315,\n",
       " '@entity284': 322,\n",
       " '@entity285': 321,\n",
       " '@entity286': 320,\n",
       " '@entity287': 319,\n",
       " '@entity288': 324,\n",
       " '@entity289': 323,\n",
       " '@entity29': 167,\n",
       " '@entity290': 282,\n",
       " '@entity291': 283,\n",
       " '@entity292': 284,\n",
       " '@entity293': 285,\n",
       " '@entity294': 279,\n",
       " '@entity295': 280,\n",
       " '@entity296': 146,\n",
       " '@entity299': 277,\n",
       " '@entity3': 286,\n",
       " '@entity30': 116,\n",
       " '@entity303': 44,\n",
       " '@entity305': 67,\n",
       " '@entity306': 51,\n",
       " '@entity31': 115,\n",
       " '@entity313': 101,\n",
       " '@entity317': 103,\n",
       " '@entity32': 118,\n",
       " '@entity323': 145,\n",
       " '@entity327': 143,\n",
       " '@entity33': 117,\n",
       " '@entity34': 120,\n",
       " '@entity342': 194,\n",
       " '@entity347': 70,\n",
       " '@entity349': 6,\n",
       " '@entity35': 119,\n",
       " '@entity351': 257,\n",
       " '@entity36': 122,\n",
       " '@entity364': 295,\n",
       " '@entity37': 121,\n",
       " '@entity376': 288,\n",
       " '@entity378': 113,\n",
       " '@entity38': 124,\n",
       " '@entity382': 75,\n",
       " '@entity388': 72,\n",
       " '@entity39': 123,\n",
       " '@entity398': 105,\n",
       " '@entity4': 229,\n",
       " '@entity40': 152,\n",
       " '@entity405': 4,\n",
       " '@entity41': 153,\n",
       " '@entity411': 292,\n",
       " '@entity42': 154,\n",
       " '@entity43': 155,\n",
       " '@entity431': 245,\n",
       " '@entity436': 43,\n",
       " '@entity44': 148,\n",
       " '@entity444': 290,\n",
       " '@entity446': 172,\n",
       " '@entity45': 149,\n",
       " '@entity451': 130,\n",
       " '@entity46': 150,\n",
       " '@entity468': 243,\n",
       " '@entity47': 151,\n",
       " '@entity471': 327,\n",
       " '@entity48': 156,\n",
       " '@entity49': 157,\n",
       " '@entity497': 83,\n",
       " '@entity499': 314,\n",
       " '@entity5': 126,\n",
       " '@entity50': 107,\n",
       " '@entity501': 90,\n",
       " '@entity51': 106,\n",
       " '@entity52': 66,\n",
       " '@entity53': 104,\n",
       " '@entity54': 111,\n",
       " '@entity55': 110,\n",
       " '@entity56': 109,\n",
       " '@entity57': 108,\n",
       " '@entity58': 281,\n",
       " '@entity59': 112,\n",
       " '@entity6': 189,\n",
       " '@entity60': 81,\n",
       " '@entity61': 82,\n",
       " '@entity62': 79,\n",
       " '@entity63': 80,\n",
       " '@entity64': 77,\n",
       " '@entity65': 78,\n",
       " '@entity66': 205,\n",
       " '@entity67': 76,\n",
       " '@entity68': 144,\n",
       " '@entity69': 125,\n",
       " '@entity7': 33,\n",
       " '@entity70': 39,\n",
       " '@entity71': 38,\n",
       " '@entity72': 41,\n",
       " '@entity73': 40,\n",
       " '@entity74': 35,\n",
       " '@entity75': 34,\n",
       " '@entity76': 37,\n",
       " '@entity77': 36,\n",
       " '@entity78': 32,\n",
       " '@entity79': 31,\n",
       " '@entity8': 2,\n",
       " '@entity80': 287,\n",
       " '@entity81': 304,\n",
       " '@entity82': 237,\n",
       " '@entity83': 250,\n",
       " '@entity84': 241,\n",
       " '@entity85': 242,\n",
       " '@entity86': 244,\n",
       " '@entity87': 254,\n",
       " '@entity88': 255,\n",
       " '@entity89': 256,\n",
       " '@entity9': 325,\n",
       " '@entity90': 223,\n",
       " '@entity91': 222,\n",
       " '@entity92': 221,\n",
       " '@entity93': 220,\n",
       " '@entity94': 219,\n",
       " '@entity95': 218,\n",
       " '@entity96': 217,\n",
       " '@entity97': 216,\n",
       " '@entity98': 215,\n",
       " '@entity99': 214}"
      ]
     },
     "execution_count": 75,
     "metadata": {},
     "output_type": "execute_result"
    }
   ],
   "source": [
    "entity_dict"
   ]
  },
  {
   "cell_type": "markdown",
   "metadata": {},
   "source": [
    "<b>get the embedding data"
   ]
  },
  {
   "cell_type": "code",
   "execution_count": 77,
   "metadata": {},
   "outputs": [],
   "source": [
    "embedding_file = \"../data/glove/glove.6B.100d.txt\"\n",
    "embeddings = utils.gen_embeddings(word_dict, 100, embedding_file)"
   ]
  },
  {
   "cell_type": "code",
   "execution_count": 78,
   "metadata": {},
   "outputs": [
    {
     "name": "stdout",
     "output_type": "stream",
     "text": [
      "50002\n",
      "100\n"
     ]
    }
   ],
   "source": [
    "# the size of embedding \n",
    "(vocab_size, embedding_size) = embeddings.shape\n",
    "print vocab_size\n",
    "print embedding_size"
   ]
  },
  {
   "cell_type": "markdown",
   "metadata": {},
   "source": [
    "<b> use word_dict to vectorize train-set data"
   ]
  },
  {
   "cell_type": "code",
   "execution_count": 79,
   "metadata": {
    "collapsed": true
   },
   "outputs": [],
   "source": [
    "# train_x1, train_x2: sequences for document and question respecitvely.\n",
    "# train_y: label \n",
    "# these three are the list which has 100(number of examples) elements\n",
    "# train_l: whether the entity label occurs in the document.  shape is: len(examples[0]), len(entity_dict)\n",
    "train_x1, train_x2, train_l, train_y = utils.vectorize(train_examples, word_dict, entity_dict)"
   ]
  },
  {
   "cell_type": "code",
   "execution_count": 80,
   "metadata": {
    "scrolled": true
   },
   "outputs": [
    {
     "name": "stdout",
     "output_type": "stream",
     "text": [
      "380298\n",
      "380298\n",
      "380298\n",
      "380298\n"
     ]
    }
   ],
   "source": [
    "print len(train_x1)\n",
    "print len(train_x2)\n",
    "print len(train_l)\n",
    "print len(train_y)"
   ]
  },
  {
   "cell_type": "markdown",
   "metadata": {},
   "source": [
    "<b>generate the real batch-size train examples"
   ]
  },
  {
   "cell_type": "code",
   "execution_count": 81,
   "metadata": {
    "collapsed": true
   },
   "outputs": [],
   "source": [
    "minibatches = utils.get_minibatches(len(train_x1), 32)"
   ]
  },
  {
   "cell_type": "code",
   "execution_count": 82,
   "metadata": {},
   "outputs": [],
   "source": [
    "# each element is: (mb_x1, mb_mask1, mb_x2, mb_mask2, mb_l, mb_y)\n",
    "# mb_x1 ... is a list with batch_size length\n",
    "# mask: real value -> 1, none -> 0\n",
    "batch_size = 32\n",
    "all_train = main.gen_examples(train_x1, train_x2, train_l, train_y, batch_size)"
   ]
  },
  {
   "cell_type": "code",
   "execution_count": 110,
   "metadata": {},
   "outputs": [
    {
     "data": {
      "text/plain": [
       "(32, 52, 100)"
      ]
     },
     "execution_count": 110,
     "metadata": {},
     "output_type": "execute_result"
    }
   ],
   "source": []
  }
 ],
 "metadata": {
  "kernelspec": {
   "display_name": "lasagne",
   "language": "python",
   "name": "python2"
  },
  "language_info": {
   "codemirror_mode": {
    "name": "ipython",
    "version": 2
   },
   "file_extension": ".py",
   "mimetype": "text/x-python",
   "name": "python",
   "nbconvert_exporter": "python",
   "pygments_lexer": "ipython2",
   "version": "2.7.14"
  }
 },
 "nbformat": 4,
 "nbformat_minor": 2
}

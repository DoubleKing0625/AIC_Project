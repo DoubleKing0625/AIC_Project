{
 "cells": [
  {
   "cell_type": "code",
   "execution_count": 10,
   "metadata": {},
   "outputs": [],
   "source": [
    "import numpy as np\n",
    "import tensorflow as tf\n",
    "from skimage.feature import hog\n",
    "from skimage import color\n",
    "import os\n",
    "import torch.utils.data as data\n",
    "import torch"
   ]
  },
  {
   "cell_type": "markdown",
   "metadata": {},
   "source": [
    "<b>Load complete CIFAR-10"
   ]
  },
  {
   "cell_type": "code",
   "execution_count": 11,
   "metadata": {},
   "outputs": [],
   "source": [
    "# CIFAR-10 Image Category Dataset\n",
    "# The CIFAR-10 data ( https://www.cs.toronto.edu/~kriz/cifar.html ) contains 60,000 32x32 color images of 10 classes.\n",
    "# It was collected by Alex Krizhevsky, Vinod Nair, and Geoffrey Hinton.\n",
    "CF10_Labels=['airplane','automobile','bird','cat','deer','dog','frog','horse','ship','truck']\n",
    "(CF10_X_train, CF10_y_train), (CF10_X_test, CF10_y_test) = tf.contrib.keras.datasets.cifar10.load_data()"
   ]
  },
  {
   "cell_type": "code",
   "execution_count": 12,
   "metadata": {},
   "outputs": [
    {
     "name": "stdout",
     "output_type": "stream",
     "text": [
      "(50000, 32, 32, 3)\n",
      "(50000, 1)\n",
      "(10000, 32, 32, 3)\n",
      "(10000, 1)\n"
     ]
    }
   ],
   "source": [
    "print(CF10_X_train.shape)\n",
    "print(CF10_y_train.shape)\n",
    "print(CF10_X_test.shape)\n",
    "print(CF10_y_test.shape)"
   ]
  },
  {
   "cell_type": "markdown",
   "metadata": {},
   "source": [
    "<b> Extract label pairs data"
   ]
  },
  {
   "cell_type": "code",
   "execution_count": 13,
   "metadata": {},
   "outputs": [],
   "source": [
    "# The paper noted 5 label pairs\n",
    "label_pair = [('deer','truck'), ('deer','horse'), ('automobile', 'truck'), ('cat', 'dog'), ('dog', 'horse')]"
   ]
  },
  {
   "cell_type": "code",
   "execution_count": 14,
   "metadata": {},
   "outputs": [],
   "source": [
    "# get the index of label\n",
    "def get_label_index(pair):\n",
    "    label_pair = []\n",
    "    label_pair.append(CF10_Labels.index(pair[0]))\n",
    "    label_pair.append(CF10_Labels.index(pair[1]))\n",
    "    return label_pair"
   ]
  },
  {
   "cell_type": "code",
   "execution_count": 15,
   "metadata": {},
   "outputs": [],
   "source": [
    "# compute hog of image\n",
    "def compute_hog(inputImage):\n",
    "    image = color.rgb2gray(inputImage)\n",
    "    fd = hog(image, orientations=8, pixels_per_cell=(8, 8), visualise=False, cells_per_block=(1, 1), block_norm='L2-Hys')\n",
    "    MinMaxScale = (fd-np.min(fd))/(np.max(fd)-np.min(fd))\n",
    "    return MinMaxScale\n",
    "# compute color hist of image\n",
    "def compute_color_hist(inputImage):\n",
    "    np_hist,edges = np.histogramdd(inputImage.reshape(-1,3),bins=(3,3,3),normed=False,range=[(0,255),(0,255),(0,255)])\n",
    "    MinMaxScale = (np_hist - np.min(np_hist))/(np.max(np_hist)-np.min(np_hist))\n",
    "    return MinMaxScale.flatten()"
   ]
  },
  {
   "cell_type": "code",
   "execution_count": 23,
   "metadata": {},
   "outputs": [],
   "source": [
    "# extract data from the complete data-set\n",
    "# pre_processing the raw data into 155*1 vector: 128 hog + 27 color_hist\n",
    "def extract_data(pair):\n",
    "    pair_index = get_label_index(pair)\n",
    "    \n",
    "    # extract\n",
    "    mask_index_train = (CF10_y_train[:,0] == pair_index[0]) | (CF10_y_train[:,0] == pair_index[1])\n",
    "    X_train_raw = CF10_X_train[mask_index_train]\n",
    "    y_train = CF10_y_train[mask_index_train]\n",
    "    \n",
    "    mask_index_test = (CF10_y_test[:,0] == pair_index[0]) | (CF10_y_test[:,0] == pair_index[1])\n",
    "    X_test_raw = CF10_X_test[mask_index_test]\n",
    "    y_test = CF10_y_test[mask_index_test]\n",
    "    \n",
    "    # change the label into 0 and 1\n",
    "    mask_index_train = (y_train == pair_index[0])\n",
    "    y_train[mask_index_train] = 0\n",
    "    y_train[~mask_index_train] = 1\n",
    "    \n",
    "    mask_index_test = (y_test == pair_index[0])\n",
    "    y_test[mask_index_test] = 0\n",
    "    y_test[~mask_index_test] = 1\n",
    "    \n",
    "    # pre-process the X data\n",
    "    X_train = np.zeros((X_train_raw.shape[0],155))\n",
    "    X_test = np.zeros((X_test_raw.shape[0],155))\n",
    "    for image in range(X_train_raw.shape[0]):\n",
    "        hog = compute_hog(X_train_raw[image,:,:,:])\n",
    "        color_hist = compute_color_hist(X_train_raw[image,:,:,:])\n",
    "        tmp = np.concatenate((hog, color_hist),axis=0).reshape(1,-1)\n",
    "        X_train[image] = tmp[0,:]\n",
    "        \n",
    "    for image in range(X_test_raw.shape[0]):\n",
    "        hog = compute_hog(X_test_raw[image,:,:,:])\n",
    "        color_hist = compute_color_hist(X_test_raw[image,:,:,:])\n",
    "        tmp = np.concatenate((hog, color_hist),axis=0).reshape(1,-1)\n",
    "        X_train[image] = tmp[0,:]\n",
    "        \n",
    "    return X_train, y_train, X_test, y_test"
   ]
  },
  {
   "cell_type": "markdown",
   "metadata": {},
   "source": [
    "<b> Save data"
   ]
  },
  {
   "cell_type": "code",
   "execution_count": 20,
   "metadata": {},
   "outputs": [],
   "source": [
    "def save_data(pair, X_train, y_train, X_test, y_test):\n",
    "    data_path = 'data'\n",
    "    if not(os.path.exists(data_path)):\n",
    "        os.makedirs(data_path)\n",
    "    file2save = os.path.join('data','CIFAR10_pair_{}_{}.npz'.format(pair[0], pair[1]))\n",
    "    if not(os.path.exists(file2save)):\n",
    "        np.savez_compressed(file2save,X_train=X_train, y_train=y_train, X_test=X_test, y_test=y_test)"
   ]
  },
  {
   "cell_type": "markdown",
   "metadata": {},
   "source": [
    "<b> call functions to generate the real data-set"
   ]
  },
  {
   "cell_type": "code",
   "execution_count": 26,
   "metadata": {},
   "outputs": [],
   "source": [
    "for i in range(len(label_pair)):\n",
    "    X_train, y_train, X_test, y_test = extract_data(label_pair[i])\n",
    "    save_data(label_pair[i], X_train, y_train, X_test, y_test)"
   ]
  },
  {
   "cell_type": "markdown",
   "metadata": {},
   "source": [
    "<b>load the real data-set"
   ]
  },
  {
   "cell_type": "code",
   "execution_count": 11,
   "metadata": {},
   "outputs": [],
   "source": [
    "def load_data(pair):\n",
    "    savedfile = os.path.join('data','CIFAR10_pair_{}_{}.npz'.format(pair[0], pair[1]))\n",
    "    if os.path.exists(savedfile):\n",
    "        npzfile = np.load(savedfile)\n",
    "        X_train, y_train, X_test, y_test = npzfile['X_train'], npzfile['y_train'], npzfile['X_test'], npzfile['y_test']\n",
    "        npzfile.close()\n",
    "    else:\n",
    "        print(\"There doesn't exist this file, please generate is firstly!!\")\n",
    "        \n",
    "    return X_train, y_train, X_test, y_test"
   ]
  },
  {
   "cell_type": "code",
   "execution_count": 12,
   "metadata": {},
   "outputs": [],
   "source": [
    "X_train, y_train, X_test, y_test = load_data(('deer','truck'))"
   ]
  },
  {
   "cell_type": "code",
   "execution_count": 13,
   "metadata": {},
   "outputs": [
    {
     "name": "stdout",
     "output_type": "stream",
     "text": [
      "(10000, 155)\n",
      "(10000, 1)\n",
      "(2000, 155)\n",
      "(2000, 1)\n",
      "[0 1]\n",
      "[0 1]\n"
     ]
    }
   ],
   "source": [
    "print(X_train.shape)\n",
    "print(y_train.shape)\n",
    "print(X_test.shape)\n",
    "print(y_test.shape)\n",
    "print(np.unique(y_train))\n",
    "print(np.unique(y_test))"
   ]
  },
  {
   "cell_type": "markdown",
   "metadata": {},
   "source": [
    "<b>generate batch data loader by using pytorch(cause our algorithm is realized by pytorch)"
   ]
  },
  {
   "cell_type": "code",
   "execution_count": 29,
   "metadata": {},
   "outputs": [],
   "source": [
    "class MyDataset(data.Dataset):\n",
    "    def __init__(self, images, labels):\n",
    "        self.images = images\n",
    "        self.labels = labels\n",
    "\n",
    "    def __getitem__(self, index): # return tensor\n",
    "        img, target = self.images[index], self.labels[index]\n",
    "        return img, target\n",
    "\n",
    "    def __len__(self):\n",
    "        return len(self.images)"
   ]
  },
  {
   "cell_type": "code",
   "execution_count": 30,
   "metadata": {},
   "outputs": [],
   "source": [
    "train_data = MyDataset(X_train, y_train)"
   ]
  },
  {
   "cell_type": "code",
   "execution_count": 31,
   "metadata": {},
   "outputs": [
    {
     "name": "stdout",
     "output_type": "stream",
     "text": [
      "(10000, 155)\n",
      "(10000, 1)\n"
     ]
    }
   ],
   "source": [
    "print(train_data.images.shape)\n",
    "print(train_data.labels.shape)"
   ]
  },
  {
   "cell_type": "code",
   "execution_count": 32,
   "metadata": {},
   "outputs": [],
   "source": [
    "train_loader = torch.utils.data.DataLoader(train_data, batch_size=50, shuffle=True)"
   ]
  },
  {
   "cell_type": "code",
   "execution_count": 33,
   "metadata": {},
   "outputs": [
    {
     "ename": "AttributeError",
     "evalue": "'torch.DoubleTensor' object has no attribute 'dtype'",
     "output_type": "error",
     "traceback": [
      "\u001b[0;31m---------------------------------------------------------------------------\u001b[0m",
      "\u001b[0;31mAttributeError\u001b[0m                            Traceback (most recent call last)",
      "\u001b[0;32m<ipython-input-33-2534e8343af6>\u001b[0m in \u001b[0;36m<module>\u001b[0;34m()\u001b[0m\n\u001b[1;32m      1\u001b[0m \u001b[0;32mfor\u001b[0m \u001b[0mstep\u001b[0m\u001b[0;34m,\u001b[0m \u001b[0;34m(\u001b[0m\u001b[0mbatch_X\u001b[0m\u001b[0;34m,\u001b[0m \u001b[0mbatch_y\u001b[0m\u001b[0;34m)\u001b[0m \u001b[0;32min\u001b[0m \u001b[0menumerate\u001b[0m\u001b[0;34m(\u001b[0m\u001b[0mtrain_loader\u001b[0m\u001b[0;34m)\u001b[0m\u001b[0;34m:\u001b[0m\u001b[0;34m\u001b[0m\u001b[0m\n\u001b[0;32m----> 2\u001b[0;31m     \u001b[0mprint\u001b[0m\u001b[0;34m(\u001b[0m\u001b[0;34m'Step: '\u001b[0m\u001b[0;34m,\u001b[0m \u001b[0mstep\u001b[0m\u001b[0;34m,\u001b[0m \u001b[0;34m'X.shape: '\u001b[0m\u001b[0;34m,\u001b[0m \u001b[0mbatch_X\u001b[0m\u001b[0;34m.\u001b[0m\u001b[0mdtype\u001b[0m\u001b[0;34m,\u001b[0m \u001b[0;34m'Y.shape: '\u001b[0m\u001b[0;34m,\u001b[0m \u001b[0mbatch_y\u001b[0m\u001b[0;34m.\u001b[0m\u001b[0mdtype\u001b[0m\u001b[0;34m)\u001b[0m\u001b[0;34m\u001b[0m\u001b[0m\n\u001b[0m",
      "\u001b[0;31mAttributeError\u001b[0m: 'torch.DoubleTensor' object has no attribute 'dtype'"
     ]
    }
   ],
   "source": [
    "for step, (batch_X, batch_y) in enumerate(train_loader):\n",
    "    print('Step: ', step, 'X.shape: ', batch_X.dtype, 'Y.shape: ', batch_y.dtype)"
   ]
  }
 ],
 "metadata": {
  "kernelspec": {
   "display_name": "Python [conda env:avance]",
   "language": "python",
   "name": "conda-env-avance-py"
  },
  "language_info": {
   "codemirror_mode": {
    "name": "ipython",
    "version": 3
   },
   "file_extension": ".py",
   "mimetype": "text/x-python",
   "name": "python",
   "nbconvert_exporter": "python",
   "pygments_lexer": "ipython3",
   "version": "3.6.4"
  }
 },
 "nbformat": 4,
 "nbformat_minor": 2
}

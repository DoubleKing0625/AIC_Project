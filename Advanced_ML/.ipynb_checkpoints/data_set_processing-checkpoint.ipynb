{
 "cells": [
  {
   "cell_type": "code",
   "execution_count": 2,
   "metadata": {},
   "outputs": [],
   "source": [
    "import numpy as np\n",
    "import tensorflow as tf\n",
    "from skimage.feature import hog\n",
    "from skimage import color\n",
    "import os\n",
    "import torch.utils.data as data\n",
    "import torch"
   ]
  },
  {
   "cell_type": "markdown",
   "metadata": {},
   "source": [
    "<b>Load complete CIFAR-10"
   ]
  },
  {
   "cell_type": "code",
   "execution_count": 3,
   "metadata": {},
   "outputs": [],
   "source": [
    "# CIFAR-10 Image Category Dataset\n",
    "# The CIFAR-10 data ( https://www.cs.toronto.edu/~kriz/cifar.html ) contains 60,000 32x32 color images of 10 classes.\n",
    "# It was collected by Alex Krizhevsky, Vinod Nair, and Geoffrey Hinton.\n",
    "CF10_Labels=['airplane','automobile','bird','cat','deer','dog','frog','horse','ship','truck']\n",
    "(CF10_X_train, CF10_y_train), (CF10_X_test, CF10_y_test) = tf.contrib.keras.datasets.cifar10.load_data()"
   ]
  },
  {
   "cell_type": "code",
   "execution_count": 4,
   "metadata": {},
   "outputs": [
    {
     "name": "stdout",
     "output_type": "stream",
     "text": [
      "(50000, 32, 32, 3)\n",
      "(50000, 1)\n",
      "(10000, 32, 32, 3)\n",
      "(10000, 1)\n"
     ]
    }
   ],
   "source": [
    "print(CF10_X_train.shape)\n",
    "print(CF10_y_train.shape)\n",
    "print(CF10_X_test.shape)\n",
    "print(CF10_y_test.shape)"
   ]
  },
  {
   "cell_type": "markdown",
   "metadata": {},
   "source": [
    "<b> Extract label pairs data"
   ]
  },
  {
   "cell_type": "code",
   "execution_count": 5,
   "metadata": {},
   "outputs": [],
   "source": [
    "# The paper noted 5 label pairs\n",
    "label_pair = [('deer','truck'), ('deer','horse'), ('automobile', 'truck'), ('cat', 'dog'), ('dog', 'horse')]"
   ]
  },
  {
   "cell_type": "code",
   "execution_count": 6,
   "metadata": {},
   "outputs": [],
   "source": [
    "# get the index of label\n",
    "def get_label_index(pair):\n",
    "    label_pair = []\n",
    "    label_pair.append(CF10_Labels.index(pair[0]))\n",
    "    label_pair.append(CF10_Labels.index(pair[1]))\n",
    "    return label_pair"
   ]
  },
  {
   "cell_type": "code",
   "execution_count": 7,
   "metadata": {},
   "outputs": [],
   "source": [
    "# compute hog of image\n",
    "def compute_hog(inputImage):\n",
    "    image = color.rgb2gray(inputImage)\n",
    "    fd = hog(image, orientations=8, pixels_per_cell=(8, 8), visualise=False, cells_per_block=(1, 1), block_norm='L2-Hys')\n",
    "    MinMaxScale = (fd-np.min(fd))/(np.max(fd)-np.min(fd))\n",
    "    return MinMaxScale\n",
    "# compute color hist of image\n",
    "def compute_color_hist(inputImage):\n",
    "    np_hist,edges = np.histogramdd(inputImage.reshape(-1,3),bins=(3,3,3),normed=False,range=[(0,255),(0,255),(0,255)])\n",
    "    MinMaxScale = (np_hist - np.min(np_hist))/(np.max(np_hist)-np.min(np_hist))\n",
    "    return MinMaxScale.flatten()"
   ]
  },
  {
   "cell_type": "code",
   "execution_count": 8,
   "metadata": {},
   "outputs": [],
   "source": [
    "# extract data from the complete data-set\n",
    "# pre_processing the raw data into 155*1 vector: 128 hog + 27 color_hist\n",
    "def extract_data(pair):\n",
    "    pair_index = get_label_index(pair)\n",
    "    \n",
    "    # extract\n",
    "    mask_index_train = (CF10_y_train[:,0] == pair_index[0]) | (CF10_y_train[:,0] == pair_index[1])\n",
    "    X_train_raw = CF10_X_train[mask_index_train]\n",
    "    y_train = CF10_y_train[mask_index_train]\n",
    "    \n",
    "    mask_index_test = (CF10_y_test[:,0] == pair_index[0]) | (CF10_y_test[:,0] == pair_index[1])\n",
    "    X_test_raw = CF10_X_test[mask_index_test]\n",
    "    y_test = CF10_y_test[mask_index_test]\n",
    "    \n",
    "    # change the label into 0 and 1\n",
    "    mask_index_train = (y_train == pair_index[0])\n",
    "    y_train[mask_index_train] = 0\n",
    "    y_train[~mask_index_train] = 1\n",
    "    \n",
    "    mask_index_test = (y_test == pair_index[0])\n",
    "    y_test[mask_index_test] = 0\n",
    "    y_test[~mask_index_test] = 1\n",
    "    \n",
    "    # pre-process the X data\n",
    "    X_train = np.zeros((X_train_raw.shape[0],155))\n",
    "    X_test = np.zeros((X_test_raw.shape[0],155))\n",
    "    for image in range(X_train_raw.shape[0]):\n",
    "        hog = compute_hog(X_train_raw[image,:,:,:])\n",
    "        color_hist = compute_color_hist(X_train_raw[image,:,:,:])\n",
    "        tmp = np.concatenate((hog, color_hist),axis=0).reshape(1,-1)\n",
    "        X_train[image] = tmp[0,:]\n",
    "        \n",
    "    for image in range(X_test_raw.shape[0]):\n",
    "        hog = compute_hog(X_test_raw[image,:,:,:])\n",
    "        color_hist = compute_color_hist(X_test_raw[image,:,:,:])\n",
    "        tmp = np.concatenate((hog, color_hist),axis=0).reshape(1,-1)\n",
    "        X_train[image] = tmp[0,:]\n",
    "        \n",
    "    return X_train, y_train, X_test, y_test"
   ]
  },
  {
   "cell_type": "markdown",
   "metadata": {},
   "source": [
    "<b> Save data"
   ]
  },
  {
   "cell_type": "code",
   "execution_count": 9,
   "metadata": {},
   "outputs": [],
   "source": [
    "def save_data(pair, X_train, y_train, X_test, y_test):\n",
    "    data_path = 'data'\n",
    "    if not(os.path.exists(data_path)):\n",
    "        os.makedirs(data_path)\n",
    "    file2save = os.path.join('data','CIFAR10_pair_{}_{}.npz'.format(pair[0], pair[1]))\n",
    "    if not(os.path.exists(file2save)):\n",
    "        np.savez_compressed(file2save,X_train=X_train, y_train=y_train, X_test=X_test, y_test=y_test)"
   ]
  },
  {
   "cell_type": "markdown",
   "metadata": {},
   "source": [
    "<b> call functions to generate the real data-set"
   ]
  },
  {
   "cell_type": "code",
   "execution_count": 10,
   "metadata": {},
   "outputs": [],
   "source": [
    "for i in range(len(label_pair)):\n",
    "    X_train, y_train, X_test, y_test = extract_data(label_pair[i])\n",
    "    save_data(label_pair[i], X_train, y_train, X_test, y_test)"
   ]
  },
  {
   "cell_type": "markdown",
   "metadata": {},
   "source": [
    "<b>load the real data-set"
   ]
  },
  {
   "cell_type": "code",
   "execution_count": 11,
   "metadata": {},
   "outputs": [],
   "source": [
    "def load_data(pair):\n",
    "    savedfile = os.path.join('data','CIFAR10_pair_{}_{}.npz'.format(pair[0], pair[1]))\n",
    "    if os.path.exists(savedfile):\n",
    "        npzfile = np.load(savedfile)\n",
    "        X_train, y_train, X_test, y_test = npzfile['X_train'], npzfile['y_train'], npzfile['X_test'], npzfile['y_test']\n",
    "        npzfile.close()\n",
    "    else:\n",
    "        print(\"There doesn't exist this file, please generate is firstly!!\")\n",
    "        \n",
    "    return X_train, y_train, X_test, y_test"
   ]
  },
  {
   "cell_type": "code",
   "execution_count": 12,
   "metadata": {},
   "outputs": [],
   "source": [
    "X_train, y_train, X_test, y_test = load_data(('deer','truck'))"
   ]
  },
  {
   "cell_type": "code",
   "execution_count": 13,
   "metadata": {},
   "outputs": [
    {
     "name": "stdout",
     "output_type": "stream",
     "text": [
      "(10000, 155)\n",
      "(10000, 1)\n",
      "(2000, 155)\n",
      "(2000, 1)\n",
      "[0 1]\n",
      "[0 1]\n"
     ]
    }
   ],
   "source": [
    "print(X_train.shape)\n",
    "print(y_train.shape)\n",
    "print(X_test.shape)\n",
    "print(y_test.shape)\n",
    "print(np.unique(y_train))\n",
    "print(np.unique(y_test))"
   ]
  },
  {
   "cell_type": "markdown",
   "metadata": {},
   "source": [
    "<b>generate batch data loader by using pytorch(cause our algorithm is realized by pytorch)"
   ]
  },
  {
   "cell_type": "code",
   "execution_count": 14,
   "metadata": {},
   "outputs": [],
   "source": [
    "class MyDataset(data.Dataset):\n",
    "    def __init__(self, images, labels):\n",
    "        self.images = images\n",
    "        self.labels = labels\n",
    "\n",
    "    def __getitem__(self, index): # return tensor\n",
    "        img, target = self.images[index], self.labels[index]\n",
    "        return img, target\n",
    "\n",
    "    def __len__(self):\n",
    "        return len(self.images)"
   ]
  },
  {
   "cell_type": "code",
   "execution_count": 22,
   "metadata": {},
   "outputs": [],
   "source": [
    "train_data = MyDataset(X_train, y_train)"
   ]
  },
  {
   "cell_type": "code",
   "execution_count": 23,
   "metadata": {},
   "outputs": [
    {
     "name": "stdout",
     "output_type": "stream",
     "text": [
      "(10000, 155)\n",
      "(10000, 1)\n"
     ]
    }
   ],
   "source": [
    "print(train_data.images.shape)\n",
    "print(train_data.labels.shape)"
   ]
  },
  {
   "cell_type": "code",
   "execution_count": 25,
   "metadata": {},
   "outputs": [],
   "source": [
    "train_loader = torch.utils.data.DataLoader(train_data, batch_size=50, shuffle=True)"
   ]
  },
  {
   "cell_type": "code",
   "execution_count": 26,
   "metadata": {},
   "outputs": [
    {
     "name": "stdout",
     "output_type": "stream",
     "text": [
      "Step:  0 X.shape:  torch.Size([50, 155]) Y.shape:  torch.Size([50, 1])\n",
      "Step:  1 X.shape:  torch.Size([50, 155]) Y.shape:  torch.Size([50, 1])\n",
      "Step:  2 X.shape:  torch.Size([50, 155]) Y.shape:  torch.Size([50, 1])\n",
      "Step:  3 X.shape:  torch.Size([50, 155]) Y.shape:  torch.Size([50, 1])\n",
      "Step:  4 X.shape:  torch.Size([50, 155]) Y.shape:  torch.Size([50, 1])\n",
      "Step:  5 X.shape:  torch.Size([50, 155]) Y.shape:  torch.Size([50, 1])\n",
      "Step:  6 X.shape:  torch.Size([50, 155]) Y.shape:  torch.Size([50, 1])\n",
      "Step:  7 X.shape:  torch.Size([50, 155]) Y.shape:  torch.Size([50, 1])\n",
      "Step:  8 X.shape:  torch.Size([50, 155]) Y.shape:  torch.Size([50, 1])\n",
      "Step:  9 X.shape:  torch.Size([50, 155]) Y.shape:  torch.Size([50, 1])\n",
      "Step:  10 X.shape:  torch.Size([50, 155]) Y.shape:  torch.Size([50, 1])\n",
      "Step:  11 X.shape:  torch.Size([50, 155]) Y.shape:  torch.Size([50, 1])\n",
      "Step:  12 X.shape:  torch.Size([50, 155]) Y.shape:  torch.Size([50, 1])\n",
      "Step:  13 X.shape:  torch.Size([50, 155]) Y.shape:  torch.Size([50, 1])\n",
      "Step:  14 X.shape:  torch.Size([50, 155]) Y.shape:  torch.Size([50, 1])\n",
      "Step:  15 X.shape:  torch.Size([50, 155]) Y.shape:  torch.Size([50, 1])\n",
      "Step:  16 X.shape:  torch.Size([50, 155]) Y.shape:  torch.Size([50, 1])\n",
      "Step:  17 X.shape:  torch.Size([50, 155]) Y.shape:  torch.Size([50, 1])\n",
      "Step:  18 X.shape:  torch.Size([50, 155]) Y.shape:  torch.Size([50, 1])\n",
      "Step:  19 X.shape:  torch.Size([50, 155]) Y.shape:  torch.Size([50, 1])\n",
      "Step:  20 X.shape:  torch.Size([50, 155]) Y.shape:  torch.Size([50, 1])\n",
      "Step:  21 X.shape:  torch.Size([50, 155]) Y.shape:  torch.Size([50, 1])\n",
      "Step:  22 X.shape:  torch.Size([50, 155]) Y.shape:  torch.Size([50, 1])\n",
      "Step:  23 X.shape:  torch.Size([50, 155]) Y.shape:  torch.Size([50, 1])\n",
      "Step:  24 X.shape:  torch.Size([50, 155]) Y.shape:  torch.Size([50, 1])\n",
      "Step:  25 X.shape:  torch.Size([50, 155]) Y.shape:  torch.Size([50, 1])\n",
      "Step:  26 X.shape:  torch.Size([50, 155]) Y.shape:  torch.Size([50, 1])\n",
      "Step:  27 X.shape:  torch.Size([50, 155]) Y.shape:  torch.Size([50, 1])\n",
      "Step:  28 X.shape:  torch.Size([50, 155]) Y.shape:  torch.Size([50, 1])\n",
      "Step:  29 X.shape:  torch.Size([50, 155]) Y.shape:  torch.Size([50, 1])\n",
      "Step:  30 X.shape:  torch.Size([50, 155]) Y.shape:  torch.Size([50, 1])\n",
      "Step:  31 X.shape:  torch.Size([50, 155]) Y.shape:  torch.Size([50, 1])\n",
      "Step:  32 X.shape:  torch.Size([50, 155]) Y.shape:  torch.Size([50, 1])\n",
      "Step:  33 X.shape:  torch.Size([50, 155]) Y.shape:  torch.Size([50, 1])\n",
      "Step:  34 X.shape:  torch.Size([50, 155]) Y.shape:  torch.Size([50, 1])\n",
      "Step:  35 X.shape:  torch.Size([50, 155]) Y.shape:  torch.Size([50, 1])\n",
      "Step:  36 X.shape:  torch.Size([50, 155]) Y.shape:  torch.Size([50, 1])\n",
      "Step:  37 X.shape:  torch.Size([50, 155]) Y.shape:  torch.Size([50, 1])\n",
      "Step:  38 X.shape:  torch.Size([50, 155]) Y.shape:  torch.Size([50, 1])\n",
      "Step:  39 X.shape:  torch.Size([50, 155]) Y.shape:  torch.Size([50, 1])\n",
      "Step:  40 X.shape:  torch.Size([50, 155]) Y.shape:  torch.Size([50, 1])\n",
      "Step:  41 X.shape:  torch.Size([50, 155]) Y.shape:  torch.Size([50, 1])\n",
      "Step:  42 X.shape:  torch.Size([50, 155]) Y.shape:  torch.Size([50, 1])\n",
      "Step:  43 X.shape:  torch.Size([50, 155]) Y.shape:  torch.Size([50, 1])\n",
      "Step:  44 X.shape:  torch.Size([50, 155]) Y.shape:  torch.Size([50, 1])\n",
      "Step:  45 X.shape:  torch.Size([50, 155]) Y.shape:  torch.Size([50, 1])\n",
      "Step:  46 X.shape:  torch.Size([50, 155]) Y.shape:  torch.Size([50, 1])\n",
      "Step:  47 X.shape:  torch.Size([50, 155]) Y.shape:  torch.Size([50, 1])\n",
      "Step:  48 X.shape:  torch.Size([50, 155]) Y.shape:  torch.Size([50, 1])\n",
      "Step:  49 X.shape:  torch.Size([50, 155]) Y.shape:  torch.Size([50, 1])\n",
      "Step:  50 X.shape:  torch.Size([50, 155]) Y.shape:  torch.Size([50, 1])\n",
      "Step:  51 X.shape:  torch.Size([50, 155]) Y.shape:  torch.Size([50, 1])\n",
      "Step:  52 X.shape:  torch.Size([50, 155]) Y.shape:  torch.Size([50, 1])\n",
      "Step:  53 X.shape:  torch.Size([50, 155]) Y.shape:  torch.Size([50, 1])\n",
      "Step:  54 X.shape:  torch.Size([50, 155]) Y.shape:  torch.Size([50, 1])\n",
      "Step:  55 X.shape:  torch.Size([50, 155]) Y.shape:  torch.Size([50, 1])\n",
      "Step:  56 X.shape:  torch.Size([50, 155]) Y.shape:  torch.Size([50, 1])\n",
      "Step:  57 X.shape:  torch.Size([50, 155]) Y.shape:  torch.Size([50, 1])\n",
      "Step:  58 X.shape:  torch.Size([50, 155]) Y.shape:  torch.Size([50, 1])\n",
      "Step:  59 X.shape:  torch.Size([50, 155]) Y.shape:  torch.Size([50, 1])\n",
      "Step:  60 X.shape:  torch.Size([50, 155]) Y.shape:  torch.Size([50, 1])\n",
      "Step:  61 X.shape:  torch.Size([50, 155]) Y.shape:  torch.Size([50, 1])\n",
      "Step:  62 X.shape:  torch.Size([50, 155]) Y.shape:  torch.Size([50, 1])\n",
      "Step:  63 X.shape:  torch.Size([50, 155]) Y.shape:  torch.Size([50, 1])\n",
      "Step:  64 X.shape:  torch.Size([50, 155]) Y.shape:  torch.Size([50, 1])\n",
      "Step:  65 X.shape:  torch.Size([50, 155]) Y.shape:  torch.Size([50, 1])\n",
      "Step:  66 X.shape:  torch.Size([50, 155]) Y.shape:  torch.Size([50, 1])\n",
      "Step:  67 X.shape:  torch.Size([50, 155]) Y.shape:  torch.Size([50, 1])\n",
      "Step:  68 X.shape:  torch.Size([50, 155]) Y.shape:  torch.Size([50, 1])\n",
      "Step:  69 X.shape:  torch.Size([50, 155]) Y.shape:  torch.Size([50, 1])\n",
      "Step:  70 X.shape:  torch.Size([50, 155]) Y.shape:  torch.Size([50, 1])\n",
      "Step:  71 X.shape:  torch.Size([50, 155]) Y.shape:  torch.Size([50, 1])\n",
      "Step:  72 X.shape:  torch.Size([50, 155]) Y.shape:  torch.Size([50, 1])\n",
      "Step:  73 X.shape:  torch.Size([50, 155]) Y.shape:  torch.Size([50, 1])\n",
      "Step:  74 X.shape:  torch.Size([50, 155]) Y.shape:  torch.Size([50, 1])\n",
      "Step:  75 X.shape:  torch.Size([50, 155]) Y.shape:  torch.Size([50, 1])\n",
      "Step:  76 X.shape:  torch.Size([50, 155]) Y.shape:  torch.Size([50, 1])\n",
      "Step:  77 X.shape:  torch.Size([50, 155]) Y.shape:  torch.Size([50, 1])\n",
      "Step:  78 X.shape:  torch.Size([50, 155]) Y.shape:  torch.Size([50, 1])\n",
      "Step:  79 X.shape:  torch.Size([50, 155]) Y.shape:  torch.Size([50, 1])\n",
      "Step:  80 X.shape:  torch.Size([50, 155]) Y.shape:  torch.Size([50, 1])\n",
      "Step:  81 X.shape:  torch.Size([50, 155]) Y.shape:  torch.Size([50, 1])\n",
      "Step:  82 X.shape:  torch.Size([50, 155]) Y.shape:  torch.Size([50, 1])\n",
      "Step:  83 X.shape:  torch.Size([50, 155]) Y.shape:  torch.Size([50, 1])\n",
      "Step:  84 X.shape:  torch.Size([50, 155]) Y.shape:  torch.Size([50, 1])\n",
      "Step:  85 X.shape:  torch.Size([50, 155]) Y.shape:  torch.Size([50, 1])\n",
      "Step:  86 X.shape:  torch.Size([50, 155]) Y.shape:  torch.Size([50, 1])\n",
      "Step:  87 X.shape:  torch.Size([50, 155]) Y.shape:  torch.Size([50, 1])\n",
      "Step:  88 X.shape:  torch.Size([50, 155]) Y.shape:  torch.Size([50, 1])\n",
      "Step:  89 X.shape:  torch.Size([50, 155]) Y.shape:  torch.Size([50, 1])\n",
      "Step:  90 X.shape:  torch.Size([50, 155]) Y.shape:  torch.Size([50, 1])\n",
      "Step:  91 X.shape:  torch.Size([50, 155]) Y.shape:  torch.Size([50, 1])\n",
      "Step:  92 X.shape:  torch.Size([50, 155]) Y.shape:  torch.Size([50, 1])\n",
      "Step:  93 X.shape:  torch.Size([50, 155]) Y.shape:  torch.Size([50, 1])\n",
      "Step:  94 X.shape:  torch.Size([50, 155]) Y.shape:  torch.Size([50, 1])\n",
      "Step:  95 X.shape:  torch.Size([50, 155]) Y.shape:  torch.Size([50, 1])\n",
      "Step:  96 X.shape:  torch.Size([50, 155]) Y.shape:  torch.Size([50, 1])\n",
      "Step:  97 X.shape:  torch.Size([50, 155]) Y.shape:  torch.Size([50, 1])\n",
      "Step:  98 X.shape:  torch.Size([50, 155]) Y.shape:  torch.Size([50, 1])\n",
      "Step:  99 X.shape:  torch.Size([50, 155]) Y.shape:  torch.Size([50, 1])\n",
      "Step:  100 X.shape:  torch.Size([50, 155]) Y.shape:  torch.Size([50, 1])\n",
      "Step:  101 X.shape:  torch.Size([50, 155]) Y.shape:  torch.Size([50, 1])\n",
      "Step:  102 X.shape:  torch.Size([50, 155]) Y.shape:  torch.Size([50, 1])\n",
      "Step:  103 X.shape:  torch.Size([50, 155]) Y.shape:  torch.Size([50, 1])\n",
      "Step:  104 X.shape:  torch.Size([50, 155]) Y.shape:  torch.Size([50, 1])\n",
      "Step:  105 X.shape:  torch.Size([50, 155]) Y.shape:  torch.Size([50, 1])\n",
      "Step:  106 X.shape:  torch.Size([50, 155]) Y.shape:  torch.Size([50, 1])\n",
      "Step:  107 X.shape:  torch.Size([50, 155]) Y.shape:  torch.Size([50, 1])\n",
      "Step:  108 X.shape:  torch.Size([50, 155]) Y.shape:  torch.Size([50, 1])\n",
      "Step:  109 X.shape:  torch.Size([50, 155]) Y.shape:  torch.Size([50, 1])\n",
      "Step:  110 X.shape:  torch.Size([50, 155]) Y.shape:  torch.Size([50, 1])\n",
      "Step:  111 X.shape:  torch.Size([50, 155]) Y.shape:  torch.Size([50, 1])\n",
      "Step:  112 X.shape:  torch.Size([50, 155]) Y.shape:  torch.Size([50, 1])\n",
      "Step:  113 X.shape:  torch.Size([50, 155]) Y.shape:  torch.Size([50, 1])\n",
      "Step:  114 X.shape:  torch.Size([50, 155]) Y.shape:  torch.Size([50, 1])\n",
      "Step:  115 X.shape:  torch.Size([50, 155]) Y.shape:  torch.Size([50, 1])\n",
      "Step:  116 X.shape:  torch.Size([50, 155]) Y.shape:  torch.Size([50, 1])\n",
      "Step:  117 X.shape:  torch.Size([50, 155]) Y.shape:  torch.Size([50, 1])\n",
      "Step:  118 X.shape:  torch.Size([50, 155]) Y.shape:  torch.Size([50, 1])\n",
      "Step:  119 X.shape:  torch.Size([50, 155]) Y.shape:  torch.Size([50, 1])\n",
      "Step:  120 X.shape:  torch.Size([50, 155]) Y.shape:  torch.Size([50, 1])\n",
      "Step:  121 X.shape:  torch.Size([50, 155]) Y.shape:  torch.Size([50, 1])\n",
      "Step:  122 X.shape:  torch.Size([50, 155]) Y.shape:  torch.Size([50, 1])\n",
      "Step:  123 X.shape:  torch.Size([50, 155]) Y.shape:  torch.Size([50, 1])\n",
      "Step:  124 X.shape:  torch.Size([50, 155]) Y.shape:  torch.Size([50, 1])\n",
      "Step:  125 X.shape:  torch.Size([50, 155]) Y.shape:  torch.Size([50, 1])\n",
      "Step:  126 X.shape:  torch.Size([50, 155]) Y.shape:  torch.Size([50, 1])\n",
      "Step:  127 X.shape:  torch.Size([50, 155]) Y.shape:  torch.Size([50, 1])\n",
      "Step:  128 X.shape:  torch.Size([50, 155]) Y.shape:  torch.Size([50, 1])\n",
      "Step:  129 X.shape:  torch.Size([50, 155]) Y.shape:  torch.Size([50, 1])\n",
      "Step:  130 X.shape:  torch.Size([50, 155]) Y.shape:  torch.Size([50, 1])\n",
      "Step:  131 X.shape:  torch.Size([50, 155]) Y.shape:  torch.Size([50, 1])\n",
      "Step:  132 X.shape:  torch.Size([50, 155]) Y.shape:  torch.Size([50, 1])\n",
      "Step:  133 X.shape:  torch.Size([50, 155]) Y.shape:  torch.Size([50, 1])\n",
      "Step:  134 X.shape:  torch.Size([50, 155]) Y.shape:  torch.Size([50, 1])\n",
      "Step:  135 X.shape:  torch.Size([50, 155]) Y.shape:  torch.Size([50, 1])\n",
      "Step:  136 X.shape:  torch.Size([50, 155]) Y.shape:  torch.Size([50, 1])\n",
      "Step:  137 X.shape:  torch.Size([50, 155]) Y.shape:  torch.Size([50, 1])\n",
      "Step:  138 X.shape:  torch.Size([50, 155]) Y.shape:  torch.Size([50, 1])\n",
      "Step:  139 X.shape:  torch.Size([50, 155]) Y.shape:  torch.Size([50, 1])\n",
      "Step:  140 X.shape:  torch.Size([50, 155]) Y.shape:  torch.Size([50, 1])\n",
      "Step:  141 X.shape:  torch.Size([50, 155]) Y.shape:  torch.Size([50, 1])\n",
      "Step:  142 X.shape:  torch.Size([50, 155]) Y.shape:  torch.Size([50, 1])\n",
      "Step:  143 X.shape:  torch.Size([50, 155]) Y.shape:  torch.Size([50, 1])\n",
      "Step:  144 X.shape:  torch.Size([50, 155]) Y.shape:  torch.Size([50, 1])\n",
      "Step:  145 X.shape:  torch.Size([50, 155]) Y.shape:  torch.Size([50, 1])\n",
      "Step:  146 X.shape:  torch.Size([50, 155]) Y.shape:  torch.Size([50, 1])\n",
      "Step:  147 X.shape:  torch.Size([50, 155]) Y.shape:  torch.Size([50, 1])\n",
      "Step:  148 X.shape:  torch.Size([50, 155]) Y.shape:  torch.Size([50, 1])\n",
      "Step:  149 X.shape:  torch.Size([50, 155]) Y.shape:  torch.Size([50, 1])\n",
      "Step:  150 X.shape:  torch.Size([50, 155]) Y.shape:  torch.Size([50, 1])\n",
      "Step:  151 X.shape:  torch.Size([50, 155]) Y.shape:  torch.Size([50, 1])\n",
      "Step:  152 X.shape:  torch.Size([50, 155]) Y.shape:  torch.Size([50, 1])\n",
      "Step:  153 X.shape:  torch.Size([50, 155]) Y.shape:  torch.Size([50, 1])\n",
      "Step:  154 X.shape:  torch.Size([50, 155]) Y.shape:  torch.Size([50, 1])\n",
      "Step:  155 X.shape:  torch.Size([50, 155]) Y.shape:  torch.Size([50, 1])\n",
      "Step:  156 X.shape:  torch.Size([50, 155]) Y.shape:  torch.Size([50, 1])\n",
      "Step:  157 X.shape:  torch.Size([50, 155]) Y.shape:  torch.Size([50, 1])\n",
      "Step:  158 X.shape:  torch.Size([50, 155]) Y.shape:  torch.Size([50, 1])\n",
      "Step:  159 X.shape:  torch.Size([50, 155]) Y.shape:  torch.Size([50, 1])\n",
      "Step:  160 X.shape:  torch.Size([50, 155]) Y.shape:  torch.Size([50, 1])\n",
      "Step:  161 X.shape:  torch.Size([50, 155]) Y.shape:  torch.Size([50, 1])\n",
      "Step:  162 X.shape:  torch.Size([50, 155]) Y.shape:  torch.Size([50, 1])\n",
      "Step:  163 X.shape:  torch.Size([50, 155]) Y.shape:  torch.Size([50, 1])\n",
      "Step:  164 X.shape:  torch.Size([50, 155]) Y.shape:  torch.Size([50, 1])\n",
      "Step:  165 X.shape:  torch.Size([50, 155]) Y.shape:  torch.Size([50, 1])\n",
      "Step:  166 X.shape:  torch.Size([50, 155]) Y.shape:  torch.Size([50, 1])\n",
      "Step:  167 X.shape:  torch.Size([50, 155]) Y.shape:  torch.Size([50, 1])\n",
      "Step:  168 X.shape:  torch.Size([50, 155]) Y.shape:  torch.Size([50, 1])\n",
      "Step:  169 X.shape:  torch.Size([50, 155]) Y.shape:  torch.Size([50, 1])\n",
      "Step:  170 X.shape:  torch.Size([50, 155]) Y.shape:  torch.Size([50, 1])\n",
      "Step:  171 X.shape:  torch.Size([50, 155]) Y.shape:  torch.Size([50, 1])\n",
      "Step:  172 X.shape:  torch.Size([50, 155]) Y.shape:  torch.Size([50, 1])\n",
      "Step:  173 X.shape:  torch.Size([50, 155]) Y.shape:  torch.Size([50, 1])\n",
      "Step:  174 X.shape:  torch.Size([50, 155]) Y.shape:  torch.Size([50, 1])\n",
      "Step:  175 X.shape:  torch.Size([50, 155]) Y.shape:  torch.Size([50, 1])\n",
      "Step:  176 X.shape:  torch.Size([50, 155]) Y.shape:  torch.Size([50, 1])\n",
      "Step:  177 X.shape:  torch.Size([50, 155]) Y.shape:  torch.Size([50, 1])\n",
      "Step:  178 X.shape:  torch.Size([50, 155]) Y.shape:  torch.Size([50, 1])\n",
      "Step:  179 X.shape:  torch.Size([50, 155]) Y.shape:  torch.Size([50, 1])\n",
      "Step:  180 X.shape:  torch.Size([50, 155]) Y.shape:  torch.Size([50, 1])\n",
      "Step:  181 X.shape:  torch.Size([50, 155]) Y.shape:  torch.Size([50, 1])\n",
      "Step:  182 X.shape:  torch.Size([50, 155]) Y.shape:  torch.Size([50, 1])\n",
      "Step:  183 X.shape:  torch.Size([50, 155]) Y.shape:  torch.Size([50, 1])\n",
      "Step:  184 X.shape:  torch.Size([50, 155]) Y.shape:  torch.Size([50, 1])\n",
      "Step:  185 X.shape:  torch.Size([50, 155]) Y.shape:  torch.Size([50, 1])\n",
      "Step:  186 X.shape:  torch.Size([50, 155]) Y.shape:  torch.Size([50, 1])\n",
      "Step:  187 X.shape:  torch.Size([50, 155]) Y.shape:  torch.Size([50, 1])\n",
      "Step:  188 X.shape:  torch.Size([50, 155]) Y.shape:  torch.Size([50, 1])\n",
      "Step:  189 X.shape:  torch.Size([50, 155]) Y.shape:  torch.Size([50, 1])\n",
      "Step:  190 X.shape:  torch.Size([50, 155]) Y.shape:  torch.Size([50, 1])\n",
      "Step:  191 X.shape:  torch.Size([50, 155]) Y.shape:  torch.Size([50, 1])\n",
      "Step:  192 X.shape:  torch.Size([50, 155]) Y.shape:  torch.Size([50, 1])\n",
      "Step:  193 X.shape:  torch.Size([50, 155]) Y.shape:  torch.Size([50, 1])\n",
      "Step:  194 X.shape:  torch.Size([50, 155]) Y.shape:  torch.Size([50, 1])\n",
      "Step:  195 X.shape:  torch.Size([50, 155]) Y.shape:  torch.Size([50, 1])\n",
      "Step:  196 X.shape:  torch.Size([50, 155]) Y.shape:  torch.Size([50, 1])\n",
      "Step:  197 X.shape:  torch.Size([50, 155]) Y.shape:  torch.Size([50, 1])\n",
      "Step:  198 X.shape:  torch.Size([50, 155]) Y.shape:  torch.Size([50, 1])\n",
      "Step:  199 X.shape:  torch.Size([50, 155]) Y.shape:  torch.Size([50, 1])\n"
     ]
    }
   ],
   "source": [
    "for step, (batch_X, batch_y) in enumerate(train_loader):\n",
    "    print('Step: ', step, 'X.shape: ', batch_X.shape, 'Y.shape: ', batch_y.shape)"
   ]
  }
 ],
 "metadata": {
  "kernelspec": {
   "display_name": "Python [conda env:avance]",
   "language": "python",
   "name": "conda-env-avance-py"
  },
  "language_info": {
   "codemirror_mode": {
    "name": "ipython",
    "version": 3
   },
   "file_extension": ".py",
   "mimetype": "text/x-python",
   "name": "python",
   "nbconvert_exporter": "python",
   "pygments_lexer": "ipython3",
   "version": "3.6.4"
  }
 },
 "nbformat": 4,
 "nbformat_minor": 2
}
